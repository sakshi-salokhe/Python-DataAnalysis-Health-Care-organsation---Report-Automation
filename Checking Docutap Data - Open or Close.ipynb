{
 "cells": [
  {
   "cell_type": "code",
   "execution_count": null,
   "metadata": {},
   "outputs": [],
   "source": [
    "import pandas as pd"
   ]
  },
  {
   "cell_type": "code",
   "execution_count": null,
   "metadata": {},
   "outputs": [],
   "source": [
    "data = pd.read_excel(r\"DOCUTAP DATA FILE.xlsx\")"
   ]
  },
  {
   "cell_type": "code",
   "execution_count": null,
   "metadata": {},
   "outputs": [],
   "source": [
    "rc = sum(1 for row in data['Visit ID'])"
   ]
  },
  {
   "cell_type": "code",
   "execution_count": null,
   "metadata": {},
   "outputs": [],
   "source": [
    "charge_equals_adjustment_vid = []\n",
    "charge_equals_adjustment_date = []\n",
    "charge_equals_adjustment_vclass = []\n",
    "\n",
    "charge_is_zero_vid = []\n",
    "charge_is_zero_date = []\n",
    "charge_is_zero_vclass = []\n",
    "\n",
    "for i in range(1, rc):\n",
    "    chargeamt = (-1) * (data['Total Charge Amount'][i])\n",
    "    adjustmentamt = data['Total Adjustment Amount'][i]\n",
    "    \n",
    "    if (chargeamt == 0):\n",
    "        charge_is_zero_vid.append(data['Visit ID'][i])\n",
    "        charge_is_zero_date.append(data['Days in Visit Date'][i])\n",
    "        charge_is_zero_vclass.append(data['Visit Class'][i])\n",
    "    \n",
    "    if ((chargeamt == adjustmentamt) and (chargeamt != 0)):\n",
    "        charge_equals_adjustment_vid.append(data['Visit ID'][i])\n",
    "        charge_equals_adjustment_date.append(data['Days in Visit Date'][i])\n",
    "        charge_equals_adjustment_vclass.append(data['Visit Class'][i])\n"
   ]
  },
  {
   "cell_type": "code",
   "execution_count": null,
   "metadata": {},
   "outputs": [],
   "source": [
    "path = r\"OUTPUT FILE.xlsx\"\n",
    "writer = pd.ExcelWriter(path, engine = 'xlsxwriter')"
   ]
  },
  {
   "cell_type": "code",
   "execution_count": null,
   "metadata": {},
   "outputs": [],
   "source": [
    "df1 = pd.DataFrame(list(zip(charge_equals_adjustment_vid, charge_equals_adjustment_date,charge_equals_adjustment_vclass)), columns = ['charge_equals_adjustment_VISIT_ID','charge_equals_adjustment_DATE','charge_equals_adjustment_Visit Class'])\n",
    "df1.to_excel(writer, sheet_name = 'Charge equals Adjustment')"
   ]
  },
  {
   "cell_type": "code",
   "execution_count": null,
   "metadata": {},
   "outputs": [],
   "source": [
    "df2 = pd.DataFrame(list(zip(charge_is_zero_vid, charge_is_zero_date,charge_is_zero_vclass)), columns = ['charge_is_zero_VISIT_ID','charge_is_zero_DATE', 'charge_is_zero_Visit Class'])\n",
    "df2.to_excel(writer, sheet_name = 'Charge equals Zero')"
   ]
  },
  {
   "cell_type": "code",
   "execution_count": null,
   "metadata": {},
   "outputs": [],
   "source": [
    "writer.save()\n",
    "writer.close()"
   ]
  },
  {
   "cell_type": "code",
   "execution_count": null,
   "metadata": {},
   "outputs": [],
   "source": []
  }
 ],
 "metadata": {
  "kernelspec": {
   "display_name": "Python 3",
   "language": "python",
   "name": "python3"
  },
  "language_info": {
   "codemirror_mode": {
    "name": "ipython",
    "version": 3
   },
   "file_extension": ".py",
   "mimetype": "text/x-python",
   "name": "python",
   "nbconvert_exporter": "python",
   "pygments_lexer": "ipython3",
   "version": "3.7.4"
  }
 },
 "nbformat": 4,
 "nbformat_minor": 2
}
