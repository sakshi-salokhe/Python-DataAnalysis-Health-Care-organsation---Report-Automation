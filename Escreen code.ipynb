{
 "cells": [
  {
   "cell_type": "code",
   "execution_count": null,
   "metadata": {},
   "outputs": [],
   "source": [
    "import pandas as pd\n",
    "import datetime"
   ]
  },
  {
   "cell_type": "code",
   "execution_count": null,
   "metadata": {},
   "outputs": [],
   "source": [
    "escreen = pd.read_excel(r\"RAW DATA.xlsx\") #, sheet_name='Invoices')\n",
    "# stmt = pd.read_csv(r\"C:\\Users\\w501738\\Desktop\\Python\\Escreen\\STMT_010820.csv\")\n",
    "insight = pd.read_csv(r\"INSIGHT DICTIONARY.csv\")"
   ]
  },
  {
   "cell_type": "markdown",
   "metadata": {},
   "source": [
    "# cleaning the raw file"
   ]
  },
  {
   "cell_type": "code",
   "execution_count": null,
   "metadata": {},
   "outputs": [],
   "source": [
    "escreen_rc = sum(1 for row in escreen['Amount'])\n",
    "# stmt_rc = sum(1 for row in stmt['CPT'])\n",
    "insight_rc = sum(1 for row in insight['Visit ID'])\n"
   ]
  },
  {
   "cell_type": "code",
   "execution_count": null,
   "metadata": {},
   "outputs": [],
   "source": [
    "print(insight_rc)"
   ]
  },
  {
   "cell_type": "code",
   "execution_count": null,
   "metadata": {},
   "outputs": [],
   "source": [
    "i = escreen_rc-1\n",
    "x = i-1\n",
    "while i > 0:\n",
    "    if (pd.isna(escreen['Check No'][i]) ==  True) or (str(escreen['Check No'][i]).lower() == \"check no\"):\n",
    "        escreen.drop(escreen.index[i], inplace=True)\n",
    "        escreen_rc -= 1\n",
    "        i = x\n",
    "        x = i-1\n",
    "    else:\n",
    "        i-=1\n",
    "        x = i-1 \n",
    "if (pd.isna(escreen['Check No'][i]) ==  True) or (str(escreen['Check No'][i]).lower() == \"check no\"):\n",
    "        escreen.drop(escreen.index[i], inplace=True)\n",
    "        escreen_rc -= 1"
   ]
  },
  {
   "cell_type": "code",
   "execution_count": null,
   "metadata": {},
   "outputs": [],
   "source": [
    "escreen.to_excel(r\"CLEAN RAW FILE.xlsx\")\n"
   ]
  },
  {
   "cell_type": "code",
   "execution_count": null,
   "metadata": {},
   "outputs": [],
   "source": [
    "escreen1 = pd.read_excel(r\"CLEAN RAW FILE.xlsx\")\n",
    "escreen1_rc = sum(1 for row in escreen['Amount'])"
   ]
  },
  {
   "cell_type": "markdown",
   "metadata": {},
   "source": [
    "# coding and processsing here"
   ]
  },
  {
   "cell_type": "code",
   "execution_count": null,
   "metadata": {},
   "outputs": [],
   "source": [
    "amount = []\n",
    "coll_date = []\n",
    "donor_name = []\n",
    "desc = []\n",
    "\n",
    "date_and_name_escreen = []\n",
    "\n",
    "for i in range(escreen1_rc):\n",
    "    amount.append(escreen1['Amount'][i])\n",
    "    coll_date.append(escreen1['Collection Date'][i])\n",
    "    \n",
    "    name1 = str(escreen1['Donor Name'][i])\n",
    "    namelist = name1.split(',')\n",
    "    namelist[-1] = namelist[-1].strip()\n",
    "    namelist[0] = namelist[0].strip()\n",
    "    \n",
    "    namelist[-1] = namelist[-1].lower()\n",
    "    namelist[0] = namelist[0].lower()\n",
    "    \n",
    "    namelist[-1] = namelist[-1].capitalize()\n",
    "    namelist[0] = namelist[0].capitalize()\n",
    "    \n",
    "    newname = namelist[-1]+' '+namelist[0]\n",
    "    \n",
    "    donor_name.append(newname)\n",
    "    \n",
    "    datename = newname.lower()+' '+str(escreen1['Collection Date'][i])\n",
    "    date_and_name_escreen.append(datename)\n",
    "    \n",
    "    desc.append(escreen1['Description'][i])"
   ]
  },
  {
   "cell_type": "code",
   "execution_count": null,
   "metadata": {},
   "outputs": [],
   "source": [
    "print(date_and_name_escreen[5])"
   ]
  },
  {
   "cell_type": "code",
   "execution_count": null,
   "metadata": {},
   "outputs": [],
   "source": [
    "insight_dict = {}\n",
    "\n",
    "for i in range(1,insight_rc):\n",
    "    fname1= insight['Patient First Name'][i]\n",
    "    fname1 = str(fname1).lower()\n",
    "    \n",
    "    lname1= insight['Patient Last Name'][i]\n",
    "    lname1 = str(lname1).lower()\n",
    "    \n",
    "    patname = fname1+\" \"+lname1\n",
    "    \n",
    "    date1 = insight['Days in Visit Date'][i]\n",
    "    \n",
    "    date2 = datetime.datetime.strptime(date1, '%m/%d/%y')\n",
    "#     date3 = date2.strftime('%m/%d/%Y')\n",
    "#     date4 = date3.date()\n",
    "    \n",
    "    date = '{0}/{1}/{2}'.format(date2.month, date2.day, date2.year)\n",
    "    name_date = patname+' '+str(date)\n",
    "    \n",
    "    invoice = int(insight['Invoice Number'][i])\n",
    "    vid = insight['Visit ID'][i]\n",
    "    \n",
    "    if name_date not in insight_dict:\n",
    "        insight_dict[name_date] = [invoice, vid]\n",
    "    else:\n",
    "        l1 = insight_dict[name_date]\n",
    "        inv = l1[0]\n",
    "        \n",
    "        if inv < 0:\n",
    "            insight_dict[name_date] = [invoice, vid]\n",
    "        else:\n",
    "            insight_dict[name_date] = l1"
   ]
  },
  {
   "cell_type": "code",
   "execution_count": null,
   "metadata": {},
   "outputs": [],
   "source": [
    "print(insight_dict['dylan smith 1/1/2020'])"
   ]
  },
  {
   "cell_type": "code",
   "execution_count": null,
   "metadata": {},
   "outputs": [],
   "source": [
    "invoices_col = []\n",
    "vid = []\n",
    "\n",
    "for i in range(len(date_and_name_escreen)):\n",
    "    val = date_and_name_escreen[i]\n",
    "    if val in insight_dict.keys():\n",
    "        value = insight_dict[val]\n",
    "        \n",
    "        invoice_num = value[0]\n",
    "        invoices_col.append(value[0])\n",
    "        \n",
    "        vid.append(value[-1])\n",
    "    else:\n",
    "        invoices_col.append(\" \")\n",
    "        vid.append(\" \")"
   ]
  },
  {
   "cell_type": "code",
   "execution_count": null,
   "metadata": {},
   "outputs": [],
   "source": [
    "df = pd.DataFrame(list(zip(amount, coll_date,donor_name, desc, invoices_col, vid)), columns = ['Amount', 'Collection Date', 'Donor Name', 'Description','Invoices', 'Visit ID'])\n",
    "df.to_excel(r\"OUTPUT FILE.xlsx\")"
   ]
  },
  {
   "cell_type": "code",
   "execution_count": null,
   "metadata": {},
   "outputs": [],
   "source": []
  }
 ],
 "metadata": {
  "kernelspec": {
   "display_name": "Python 3",
   "language": "python",
   "name": "python3"
  },
  "language_info": {
   "codemirror_mode": {
    "name": "ipython",
    "version": 3
   },
   "file_extension": ".py",
   "mimetype": "text/x-python",
   "name": "python",
   "nbconvert_exporter": "python",
   "pygments_lexer": "ipython3",
   "version": "3.7.4"
  }
 },
 "nbformat": 4,
 "nbformat_minor": 2
}
