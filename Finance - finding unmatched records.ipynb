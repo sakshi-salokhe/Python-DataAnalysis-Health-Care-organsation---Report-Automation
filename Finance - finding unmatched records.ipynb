{
 "cells": [
  {
   "cell_type": "code",
   "execution_count": null,
   "metadata": {},
   "outputs": [],
   "source": [
    "import pandas as pd"
   ]
  },
  {
   "cell_type": "code",
   "execution_count": null,
   "metadata": {},
   "outputs": [],
   "source": [
    "monthend = pd.read_excel(r\"FILE 1.xlsx\")\n",
    "unmatched = pd.read_excel(r\"FILE 2.xlsx\")"
   ]
  },
  {
   "cell_type": "code",
   "execution_count": null,
   "metadata": {},
   "outputs": [],
   "source": [
    "me_rc = sum(1 for row in monthend['Visit Class'])\n",
    "unmatch_rc = sum(1 for row in unmatched['Visit Class'])\n",
    "\n",
    "print(me_rc)\n",
    "print(unmatch_rc)\n",
    "print(\"difference = \",abs(me_rc - unmatch_rc))"
   ]
  },
  {
   "cell_type": "code",
   "execution_count": null,
   "metadata": {},
   "outputs": [],
   "source": [
    "me_list = []\n",
    "\n",
    "for i in range(me_rc):\n",
    "    A = monthend['Visit Class'][i].lower()\n",
    "    B = monthend['Patient Type'][i].lower()\n",
    "    \n",
    "    if(monthend['Clinic Custom Id'][i] == \"-\"):\n",
    "        C = 0\n",
    "    else:\n",
    "        C = monthend['Clinic Custom Id'][i]\n",
    "        \n",
    "    if(monthend['Visit ID'][i] == \"-\"):\n",
    "        D = 0\n",
    "    else:\n",
    "        D = monthend['Visit ID'][i]\n",
    "        \n",
    "    E = monthend['Charge Payer Type'][i].lower()\n",
    "    F = monthend['Charge Payer Plan'][i].lower()\n",
    "    \n",
    "    if(monthend['Total Charge Amount'][i] == \"-\"):\n",
    "        G = 0\n",
    "    else:\n",
    "        G = monthend['Total Charge Amount'][i]\n",
    "        \n",
    "    if(monthend['Total Insurance Write-off Amount'][i] == \"-\"):\n",
    "        H = 0\n",
    "    else:\n",
    "        H = monthend['Total Insurance Write-off Amount'][i]\n",
    "        \n",
    "    if(monthend['Total Adjustment Amount'][i] == \"-\"):\n",
    "        I = 0\n",
    "    else:\n",
    "        I = monthend['Total Adjustment Amount'][i]\n",
    "        \n",
    "    if(monthend['Total Payment Amount'][i] == \"-\"):\n",
    "        J = 0\n",
    "    else:\n",
    "        J = monthend['Total Payment Amount'][i]\n",
    "        \n",
    "    if(monthend['Total Reversal Amount'][i] == \"-\"):\n",
    "        K = 0\n",
    "    else:\n",
    "        K = monthend['Total Reversal Amount'][i]\n",
    "        \n",
    "    if(monthend['Total AR Amount'][i] == \"-\"):\n",
    "        L = 0\n",
    "    else:\n",
    "        L = monthend['Total AR Amount'][i]\n",
    "        \n",
    "    value = [A,B,C,D,E,F,G,H,I,J,K,L]\n",
    "    \n",
    "    me_list.append(value)"
   ]
  },
  {
   "cell_type": "code",
   "execution_count": null,
   "metadata": {},
   "outputs": [],
   "source": [
    "print(len(me_list))"
   ]
  },
  {
   "cell_type": "code",
   "execution_count": null,
   "metadata": {},
   "outputs": [],
   "source": [
    "unmatch_list = []\n",
    "\n",
    "for i in range(unmatch_rc):\n",
    "    A = unmatched['Visit Class'][i].lower()\n",
    "    B = unmatched['Patient Type'][i].lower()\n",
    "    \n",
    "    if(unmatched['Clinic Custom Id'][i] == \"-\"):\n",
    "        C = 0\n",
    "    else:\n",
    "        C = unmatched['Clinic Custom Id'][i]\n",
    "        \n",
    "    if(unmatched['Visit ID'][i] == \"-\"):\n",
    "        D = 0\n",
    "    else:\n",
    "        D = unmatched['Visit ID'][i]\n",
    "        \n",
    "    E = unmatched['Charge Payer Type'][i].lower()\n",
    "    F = unmatched['Charge Payer Plan'][i].lower()\n",
    "    \n",
    "    if(unmatched['Total Charge Amount'][i] == \"-\"):\n",
    "        G = 0\n",
    "    else:\n",
    "        G = unmatched['Total Charge Amount'][i]\n",
    "        \n",
    "    if(unmatched['Total Insurance Write-off Amount'][i] == \"-\"):\n",
    "        H = 0\n",
    "    else:\n",
    "        H = unmatched['Total Insurance Write-off Amount'][i]\n",
    "        \n",
    "    if(unmatched['Total Adjustment Amount'][i] == \"-\"):\n",
    "        I = 0\n",
    "    else:\n",
    "        I = unmatched['Total Adjustment Amount'][i]\n",
    "        \n",
    "    if(unmatched['Total Payment Amount'][i] == \"-\"):\n",
    "        J = 0\n",
    "    else:\n",
    "        J = unmatched['Total Payment Amount'][i]\n",
    "        \n",
    "    if(unmatched['Total Reversal Amount'][i] == \"-\"):\n",
    "        K = 0\n",
    "    else:\n",
    "        K = unmatched['Total Reversal Amount'][i]\n",
    "        \n",
    "    if(unmatched['Total AR Amount'][i] == \"-\"):\n",
    "        L = 0\n",
    "    else:\n",
    "        L = unmatched['Total AR Amount'][i]\n",
    "    \n",
    "    value = [A,B,C,D,E,F,G,H,I,J,K,L]\n",
    "    \n",
    "    unmatch_list.append(value)\n",
    "print(len(unmatch_list))"
   ]
  },
  {
   "cell_type": "code",
   "execution_count": null,
   "metadata": {},
   "outputs": [],
   "source": [
    "ME_index = []\n",
    "UNM_index = []\n",
    "only_in_ME = []\n",
    "only_in_UNM = []\n",
    "\n",
    "\n",
    "for i in range(me_rc):\n",
    "    if me_list[i] not in unmatch_list:\n",
    "        only_in_ME.append(me_list[i])\n",
    "        ME_index.append(i)\n",
    "\n",
    "for j in range(unmatch_rc):\n",
    "    if unmatch_list[j] not in me_list:\n",
    "        only_in_UNM.append(unmatch_list[j])\n",
    "        UNM_index.append(j)"
   ]
  },
  {
   "cell_type": "code",
   "execution_count": null,
   "metadata": {},
   "outputs": [],
   "source": [
    "print(len(only_in_ME))\n",
    "print(len(only_in_UNM))\n",
    "print(\"diff = \", abs(len(only_in_ME) - len(only_in_UNM)))"
   ]
  },
  {
   "cell_type": "code",
   "execution_count": null,
   "metadata": {},
   "outputs": [],
   "source": [
    "IND1 = []\n",
    "ME_A = []\n",
    "ME_B = []\n",
    "ME_C = []\n",
    "ME_D = []\n",
    "ME_E = []\n",
    "ME_F = []\n",
    "ME_G = []\n",
    "ME_H = []\n",
    "ME_I = []\n",
    "ME_J = []\n",
    "ME_K = []\n",
    "ME_L = []\n",
    "# convert the lists to columns and save both sets in different sheets\n",
    "for i in range(len(only_in_ME)):\n",
    "    IND1.append(ME_index[i]+2)\n",
    "    ME_A.append(only_in_ME[i][0])\n",
    "    ME_B.append(only_in_ME[i][1])\n",
    "    ME_C.append(only_in_ME[i][2])\n",
    "    ME_D.append(only_in_ME[i][3])\n",
    "    ME_E.append(only_in_ME[i][4])\n",
    "    ME_F.append(only_in_ME[i][5])\n",
    "    ME_G.append(only_in_ME[i][6])\n",
    "    ME_H.append(only_in_ME[i][7])\n",
    "    ME_I.append(only_in_ME[i][8])\n",
    "    ME_J.append(only_in_ME[i][9])\n",
    "    ME_K.append(only_in_ME[i][10])\n",
    "    ME_L.append(only_in_ME[i][11])"
   ]
  },
  {
   "cell_type": "code",
   "execution_count": null,
   "metadata": {},
   "outputs": [],
   "source": [
    "IND2 = []\n",
    "UNM_A = []\n",
    "UNM_B = []\n",
    "UNM_C = []\n",
    "UNM_D = []\n",
    "UNM_E = []\n",
    "UNM_F = []\n",
    "UNM_G = []\n",
    "UNM_H = []\n",
    "UNM_I = []\n",
    "UNM_J = []\n",
    "UNM_K = []\n",
    "UNM_L = []\n",
    "# convert the lists to columns and save both sets in different sheets\n",
    "for i in range(len(only_in_UNM)):\n",
    "    IND2.append(UNM_index[i]+2)\n",
    "    UNM_A.append(only_in_UNM[i][0])\n",
    "    UNM_B.append(only_in_UNM[i][1])\n",
    "    UNM_C.append(only_in_UNM[i][2])\n",
    "    UNM_D.append(only_in_UNM[i][3])\n",
    "    UNM_E.append(only_in_UNM[i][4])\n",
    "    UNM_F.append(only_in_UNM[i][5])\n",
    "    UNM_G.append(only_in_UNM[i][6])\n",
    "    UNM_H.append(only_in_UNM[i][7])\n",
    "    UNM_I.append(only_in_UNM[i][8])\n",
    "    UNM_J.append(only_in_UNM[i][9])\n",
    "    UNM_K.append(only_in_UNM[i][10])\n",
    "    UNM_L.append(only_in_UNM[i][11])"
   ]
  },
  {
   "cell_type": "code",
   "execution_count": null,
   "metadata": {},
   "outputs": [],
   "source": [
    "path = r\"OUTPUT FILE.xlsx\"\n",
    "writer = pd.ExcelWriter(path, engine = 'xlsxwriter')"
   ]
  },
  {
   "cell_type": "code",
   "execution_count": null,
   "metadata": {},
   "outputs": [],
   "source": [
    "df1 = pd.DataFrame(list(zip(IND1, ME_A, ME_B, ME_C, ME_D,ME_E,ME_F,ME_G,ME_H,ME_I,ME_J,ME_K,ME_L)), columns =[\"Row number in file\",'Visit Class','Patient Type','Clinic Custom Id','Visit ID','Charge Payer Type','Charge Payer Plan','Total Charge Amount','Total Insurance Write-off Amount','Total Adjustment Amount','Total Payment Amount','Total Reversal Amount', 'Total AR Amount'])\n",
    "df1.to_excel(writer, sheet_name = \"Records from Month End File\")"
   ]
  },
  {
   "cell_type": "code",
   "execution_count": null,
   "metadata": {},
   "outputs": [],
   "source": [
    "df2 = pd.DataFrame(list(zip(IND2, UNM_A, UNM_B, UNM_C, UNM_D,UNM_E,UNM_F,UNM_G,UNM_H,UNM_I,UNM_J,UNM_K,UNM_L)), columns =[\"Row number in file\", 'Visit Class','Patient Type','Clinic Custom Id','Visit ID','Charge Payer Type','Charge Payer Plan','Total Charge Amount','Total Insurance Write-off Amount','Total Adjustment Amount','Total Payment Amount','Total Reversal Amount', 'Total AR Amount'])\n",
    "df2.to_excel(writer, sheet_name = \"Records From Unmatched File\")\n",
    "writer.save()\n",
    "writer.close()"
   ]
  },
  {
   "cell_type": "code",
   "execution_count": null,
   "metadata": {},
   "outputs": [],
   "source": []
  }
 ],
 "metadata": {
  "kernelspec": {
   "display_name": "Python 3",
   "language": "python",
   "name": "python3"
  },
  "language_info": {
   "codemirror_mode": {
    "name": "ipython",
    "version": 3
   },
   "file_extension": ".py",
   "mimetype": "text/x-python",
   "name": "python",
   "nbconvert_exporter": "python",
   "pygments_lexer": "ipython3",
   "version": "3.7.4"
  }
 },
 "nbformat": 4,
 "nbformat_minor": 2
}
