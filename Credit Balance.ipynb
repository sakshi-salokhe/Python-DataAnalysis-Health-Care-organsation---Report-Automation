{
 "cells": [
  {
   "cell_type": "code",
   "execution_count": null,
   "metadata": {},
   "outputs": [],
   "source": [
    "import pandas as pd\n",
    "import csv"
   ]
  },
  {
   "cell_type": "markdown",
   "metadata": {},
   "source": [
    "# cleaning the raw data file for Credit Balance first"
   ]
  },
  {
   "cell_type": "code",
   "execution_count": null,
   "metadata": {},
   "outputs": [],
   "source": [
    "with open('new_row_file.csv', 'w', newline='') as outcsv:\n",
    "    writer = csv.writer(outcsv)\n",
    "    writer.writerow([\" \",\" \",\" \",\" \",\" \",\" \",\" \",\" \",\" \",\" \",\" \",\"Patient\", \"Patient ID\", \"Visit ID\", \"Visit Date\", \"Refund Amt\", \"Charges\", \"Pat Pmnts\", \"Ins Pmnts\", \"Adjmt\",\" \",\" \",\" \",\" \",\" \",])\n",
    "\n",
    "    with open(r'C:\\Users\\w501738\\Desktop\\Python\\RAW DATA.csv', 'r', newline='') as incsv:\n",
    "        reader = csv.reader(incsv)\n",
    "        writer.writerows(row + [0.0] for row in reader)"
   ]
  },
  {
   "cell_type": "code",
   "execution_count": null,
   "metadata": {},
   "outputs": [],
   "source": [
    "df_raw = pd.read_csv(r\"CLEANED ROWS.csv\")\n",
    "copy_raw_data = df_raw.iloc[:,10:19]\n",
    "copy_raw_data.columns = [\"Patient\", \"Patient ID\", \"Visit ID\", \"Visit Date\", \"Refund Amt\", \"Charges\", \"Pat Pmnts\", \"Ins Pmnts\", \"Adjmt\"]"
   ]
  },
  {
   "cell_type": "code",
   "execution_count": null,
   "metadata": {},
   "outputs": [],
   "source": [
    "path = r\"OUTPUT COLUMNS IN THIS FILE.xlsx\"\n",
    "writer = pd.ExcelWriter(path, engine = 'xlsxwriter')"
   ]
  },
  {
   "cell_type": "code",
   "execution_count": null,
   "metadata": {},
   "outputs": [],
   "source": [
    "copy_raw_data.to_excel(r\"CLEANED RAW DATA FILE.xlsx\")"
   ]
  },
  {
   "cell_type": "code",
   "execution_count": null,
   "metadata": {},
   "outputs": [],
   "source": [
    "df_new_raw = pd.read_excel(r\"CLEANED RAW DATA FILE.xlsx\")\n",
    "df_charts_not_locked = pd.read_excel(r\"INPUT DATA 1.xlsx\")\n",
    "df_onhold = pd.read_excel(r\"INPUT DATA 2.xlsx\")\n",
    "df_inlimbo = pd.read_csv(r\"INPUT DATA 3.csv\")\n",
    "\n",
    "df_claim_sent = pd.read_csv(r\"DICTIONARY 1.csv\")\n",
    "wb = pd.read_csv(r\"DICTIONARY 2.csv\")"
   ]
  },
  {
   "cell_type": "code",
   "execution_count": null,
   "metadata": {},
   "outputs": [],
   "source": [
    "def conversion(num):\n",
    "    if \",\" in num:\n",
    "        num1 = num.split(\",\")\n",
    "        val = ''.join(num1)\n",
    "    else:\n",
    "        val = num\n",
    "    return int(val)"
   ]
  },
  {
   "cell_type": "code",
   "execution_count": null,
   "metadata": {},
   "outputs": [],
   "source": [
    "row_count_new_raw = sum(1 for row in df_new_raw[\"Patient\"])\n",
    "print(row_count_new_raw)\n",
    "\n",
    "new_raw_visit_id = []\n",
    "for i in range(0,row_count_new_raw):\n",
    "    v_id = df_new_raw[\"Visit ID\"][i]\n",
    "    new_raw_visit_id.append(v_id)\n",
    "print(len(new_raw_visit_id))"
   ]
  },
  {
   "cell_type": "code",
   "execution_count": null,
   "metadata": {},
   "outputs": [],
   "source": [
    "claimsent_row = sum(1 for row in df_claim_sent[\"Patient ID\"])\n",
    "print(claimsent_row)\n",
    "\n",
    "claim_sent_dict = {}\n",
    "for i in range(0,claimsent_row):\n",
    "    vid1 = df_claim_sent[\"Visit ID\"][i]\n",
    "    if type(vid1) == str:\n",
    "        vid = conversion(vid1)\n",
    "    else:\n",
    "        vid = vid1\n",
    "        \n",
    "    claim = df_claim_sent[\"Claim Sent\"][i]\n",
    "    \n",
    "    if vid in claim_sent_dict:\n",
    "        claim_sent_dict[vid] = claim\n",
    "    else:\n",
    "        claim_sent_dict[vid] = claim\n",
    "        \n",
    "print(len(claim_sent_dict))"
   ]
  },
  {
   "cell_type": "code",
   "execution_count": null,
   "metadata": {},
   "outputs": [],
   "source": [
    "wb_row = sum(1 for row in wb['Visit ID'])\n",
    "\n",
    "wb_dict = {}\n",
    "for i in range(wb_row):\n",
    "    vid = wb['Visit ID'][i]\n",
    "    \n",
    "    if vid in wb_dict:\n",
    "        val = wb_dict[vid]\n",
    "        if \"* unknown *\" in val or \"unknown\" in val:\n",
    "            wb_dict[vid] = wb['Workbasket'][i]\n",
    "        else:\n",
    "            wb_dict[vid] = wb['Workbasket'][i]\n",
    "    else:\n",
    "        wb_dict[vid] = wb['Workbasket'][i]"
   ]
  },
  {
   "cell_type": "code",
   "execution_count": null,
   "metadata": {},
   "outputs": [],
   "source": [
    "print(wb_dict[5531878])"
   ]
  },
  {
   "cell_type": "code",
   "execution_count": null,
   "metadata": {},
   "outputs": [],
   "source": [
    "row_count_chartsnotlocked = sum(1 for row in df_charts_not_locked[\"Visit ID\"])\n",
    "print(row_count_chartsnotlocked)\n",
    "\n",
    "charts_not_locked_visitid = []\n",
    "for i in range(0,row_count_chartsnotlocked):\n",
    "    \n",
    "    vid1 = df_charts_not_locked[\"Visit ID\"][i]\n",
    "    if type(vid1) == str:\n",
    "        vid = conversion(vid1)\n",
    "    else:\n",
    "        vid = vid1\n",
    "        \n",
    "    charts_not_locked_visitid.append(vid)\n",
    "print(len(charts_not_locked_visitid))"
   ]
  },
  {
   "cell_type": "code",
   "execution_count": null,
   "metadata": {},
   "outputs": [],
   "source": [
    "row_count_onhold = sum(1 for row in df_onhold[\"Visit ID\"])\n",
    "print(row_count_onhold)\n",
    "\n",
    "row_count_onhold_visitid = []\n",
    "for i in range(0,row_count_onhold):\n",
    "    vid1 = df_onhold[\"Visit ID\"][i]\n",
    "    if type(vid1) == str:\n",
    "        vid = conversion(vid1)\n",
    "    else:\n",
    "        vid = vid1\n",
    "    row_count_onhold_visitid.append(vid)\n",
    "print(len(row_count_onhold_visitid))"
   ]
  },
  {
   "cell_type": "code",
   "execution_count": null,
   "metadata": {},
   "outputs": [],
   "source": [
    "row_count_inlimbo = sum(1 for row in df_inlimbo[\"Visit ID\"])\n",
    "print(row_count_inlimbo)\n",
    "\n",
    "row_count_inlimbo_visitid = {}\n",
    "for i in range(0,row_count_inlimbo):\n",
    "    vid1 = df_inlimbo[\"Visit ID\"][i]\n",
    "    if type(vid1) == str:\n",
    "        vid = conversion(vid1)\n",
    "    else:\n",
    "        vid = vid1\n",
    "    if vid not in row_count_inlimbo_visitid:\n",
    "        row_count_inlimbo_visitid[vid] = [df_inlimbo[\"Description\"][i].lower()]\n",
    "    else:\n",
    "        row_count_inlimbo_visitid[vid].append(df_inlimbo[\"Description\"][i].lower())\n",
    "print(len(row_count_inlimbo_visitid))"
   ]
  },
  {
   "cell_type": "code",
   "execution_count": null,
   "metadata": {},
   "outputs": [],
   "source": [
    "acct_on_hold = []\n",
    "acct_not_locked = []\n",
    "charges_not_accepted = []\n",
    "claim_sent_col = []\n",
    "wb_col = []\n",
    "\n",
    "for i in range(0, len(new_raw_visit_id)):\n",
    "    vid = new_raw_visit_id[i]\n",
    "    \n",
    "    if vid in charts_not_locked_visitid:\n",
    "        acct_not_locked.append(\"Not Locked\")\n",
    "    else:\n",
    "        acct_not_locked.append(\" \")\n",
    "        \n",
    "    if vid in row_count_onhold_visitid:\n",
    "        acct_on_hold.append(\"On hold\")\n",
    "    else:\n",
    "        acct_on_hold.append(\" \")\n",
    "        \n",
    "    if vid in row_count_inlimbo_visitid:\n",
    "        desc = row_count_inlimbo_visitid[vid]\n",
    "        \n",
    "        if \"charges have not been accepted\" in desc:\n",
    "            charges_not_accepted.append(\"Not accepted\")\n",
    "        else:\n",
    "            charges_not_accepted.append(\" \")\n",
    "    else:\n",
    "            charges_not_accepted.append(\" \")\n",
    "            \n",
    "    \n",
    "    if vid in claim_sent_dict:\n",
    "        claim = claim_sent_dict[vid]\n",
    "        claim_sent_col.append(claim)\n",
    "    else:\n",
    "        claim_sent_col.append(\"  \")\n",
    "        \n",
    "    if vid in wb_dict:\n",
    "        wb_val = wb_dict[vid]\n",
    "        wb_col.append(wb_val)\n",
    "    else:\n",
    "        wb_col.append(\"  \")"
   ]
  },
  {
   "cell_type": "code",
   "execution_count": null,
   "metadata": {},
   "outputs": [],
   "source": [
    "print(len(acct_on_hold))\n",
    "print(len(acct_not_locked))\n",
    "print(len(charges_not_accepted))\n",
    "print(len(claim_sent_col))\n",
    "# print(len(wb_col))"
   ]
  },
  {
   "cell_type": "code",
   "execution_count": null,
   "metadata": {},
   "outputs": [],
   "source": [
    "df0 = pd.DataFrame(list(zip(acct_not_locked, acct_on_hold, charges_not_accepted, claim_sent_col, wb_col)), columns =['Acct Not Locked','Acct On Hold','Charges Not Accepted', \"Claim Billed\", \"Work Basket\"])\n",
    "df0.to_excel(r\"OUTPUT COLUMNS HERE.xlsx\")"
   ]
  },
  {
   "cell_type": "code",
   "execution_count": null,
   "metadata": {},
   "outputs": [],
   "source": []
  }
 ],
 "metadata": {
  "kernelspec": {
   "display_name": "Python 3",
   "language": "python",
   "name": "python3"
  },
  "language_info": {
   "codemirror_mode": {
    "name": "ipython",
    "version": 3
   },
   "file_extension": ".py",
   "mimetype": "text/x-python",
   "name": "python",
   "nbconvert_exporter": "python",
   "pygments_lexer": "ipython3",
   "version": "3.7.4"
  }
 },
 "nbformat": 4,
 "nbformat_minor": 2
}
