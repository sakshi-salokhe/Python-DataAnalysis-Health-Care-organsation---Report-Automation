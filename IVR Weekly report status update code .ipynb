{
 "cells": [
  {
   "cell_type": "code",
   "execution_count": null,
   "metadata": {},
   "outputs": [],
   "source": [
    "#importing libraries\n",
    "import pandas as pd\n",
    "import csv"
   ]
  },
  {
   "cell_type": "code",
   "execution_count": null,
   "metadata": {},
   "outputs": [],
   "source": [
    "#reading the excel file\n",
    "df = pd.read_csv(r'RAW DATA FILE.csv')\n",
    "df[\"balance\"].fillna(0,inplace = True)"
   ]
  },
  {
   "cell_type": "code",
   "execution_count": null,
   "metadata": {},
   "outputs": [],
   "source": [
    "#column to be used for determining the status - \"info\"\n",
    "row_count = sum(1 for row in df[\"info\"])  # we calculate the number of entries to determine the loop"
   ]
  },
  {
   "cell_type": "code",
   "execution_count": null,
   "metadata": {},
   "outputs": [],
   "source": [
    "stat = []\n",
    "for i in range(0,row_count):\n",
    "    val = (df[\"info\"][i]).split(\",\")\n",
    "    bal = df[\"balance\"][i]\n",
    "    \n",
    "    #Payment successful \n",
    "    if (val[0] == \"Autopay success DOB\" or val[0] == \"Person answered DOB\") and \"IM-Success\" in val and bal != 0:\n",
    "        stat.append(\"Payment Successful\")\n",
    "    \n",
    "    #IM-Success with no Payment\n",
    "    elif (val[0] == \"Autopay success DOB\" or val[0] == \"Person answered DOB\") and \"IM-Success\" in val and bal == 0:\n",
    "        stat.append(\"IM-Success with no Payment\")\n",
    "        \n",
    "    #Transfer to Office\n",
    "    elif val[0] == \"Transfer to office DOB\" and val[-1] == \"Trans\":\n",
    "        stat.append(\"Transfer to Office\")\n",
    "        \n",
    "    #Dropped Call\n",
    "    elif len(val) == 1 and val[0] == \"Person answered\":\n",
    "        stat.append(\"Dropped Call\")\n",
    "        \n",
    "    elif val[0] == \"Person answered DOB\" and (val[len(val)-1] == \"MMenu\" or val[len(val)-1] == \"MoreOpts\" or val[len(val)-1] == \"OfficeHrs\"):\n",
    "        stat.append(\"Dropped Call\")\n",
    "        \n",
    "    #Declined Payment\n",
    "    elif (\"IM-failure\" in val) and (\"IM-Success\" not in val) and (val[0] == \"Person answered DOB\" or val[0] == \"Autopay failure DOB\"):\n",
    "        stat.append(\"Declined Payment\")\n",
    "        \n",
    "    #Stopped at DOB\n",
    "    elif (len(val) == 1 and val[0] == \"Person answered DOB\") or ((len(val) > 1 and val[0] == \"Person answered DOB\") and all(p == \"SOver\" or p == \"DOB\" for p in val[1:])):\n",
    "        stat.append(\"Stopped at DOB\")\n",
    "        \n",
    "    #Phone Vaidation Failed\n",
    "    elif (val[len(val)-1] == \"phone\") or (val[len(val)-2] == \"phone\" and (val[len(val)-1] == \"Bye\" or val[len(val)-1] == \"accnt#\")):\n",
    "        stat.append(\"Phone Validation Failed\")\n",
    "        \n",
    "    #Stopped at Zip\n",
    "    elif val[0] == \"Person answered DOB\" and (val[-1] == \"AuthZip\" or (val[-2] == \"AuthZip\" and val[-1] == \"Bye\")) and \"DOB\" not in val:\n",
    "        stat.append(\"Stopped at Zip\")\n",
    "        \n",
    "    #Tried Another DOB/Zip\n",
    "    elif val[0] == \"Person answered DOB\" and val[1] == \"AuthZip\" and (val[2] == \"DOB\" or val[2] == \"SOver\") and \"IM-Success\" not in val:\n",
    "        stat.append(\"Tried Another DOB/Zip\")\n",
    "        \n",
    "    #Validated - Dropped during Payment\n",
    "    elif 'PayFull' in val and 'IM-Success' not in val:\n",
    "        stat.append(\"Validated - Dropped during Payment\")\n",
    "        \n",
    "    #Validated then Dropped\n",
    "    elif val[0] == \"Person answered DOB\" and val[len(val)-1] == \"MMenu\":\n",
    "        if len(val) == 3 and val[1] == \"AuthZip\":\n",
    "            stat.append(\"Validated then Dropped\")\n",
    "        else:\n",
    "            stat.append(\"error\")\n",
    "            \n",
    "    else:\n",
    "        stat.append(\"NEW VAL\")"
   ]
  },
  {
   "cell_type": "code",
   "execution_count": null,
   "metadata": {},
   "outputs": [],
   "source": [
    "df[\"Status\"] = stat\n",
    "df.to_csv(r\"SAME RAW DATA FILE WILL BE CHANGED.csv\")"
   ]
  },
  {
   "cell_type": "code",
   "execution_count": null,
   "metadata": {},
   "outputs": [],
   "source": []
  }
 ],
 "metadata": {
  "kernelspec": {
   "display_name": "Python 3",
   "language": "python",
   "name": "python3"
  },
  "language_info": {
   "codemirror_mode": {
    "name": "ipython",
    "version": 3
   },
   "file_extension": ".py",
   "mimetype": "text/x-python",
   "name": "python",
   "nbconvert_exporter": "python",
   "pygments_lexer": "ipython3",
   "version": "3.7.4"
  }
 },
 "nbformat": 4,
 "nbformat_minor": 2
}
