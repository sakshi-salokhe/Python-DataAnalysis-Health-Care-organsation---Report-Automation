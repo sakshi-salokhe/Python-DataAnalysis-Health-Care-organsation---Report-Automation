{
 "cells": [
  {
   "cell_type": "code",
   "execution_count": null,
   "metadata": {},
   "outputs": [],
   "source": [
    "import pandas as pd\n",
    "import csv\n",
    "import datetime\n",
    "from dateutil.parser import parse"
   ]
  },
  {
   "cell_type": "code",
   "execution_count": null,
   "metadata": {},
   "outputs": [],
   "source": [
    "df = pd.read_excel(r'RAW FILE.xlsx')"
   ]
  },
  {
   "cell_type": "code",
   "execution_count": null,
   "metadata": {},
   "outputs": [],
   "source": [
    "if \"Visit Count\" in df.columns:\n",
    "    df.drop('Visit Count', axis = 1,inplace = True)"
   ]
  },
  {
   "cell_type": "code",
   "execution_count": null,
   "metadata": {},
   "outputs": [],
   "source": [
    "row_count = sum(1 for row in df[\"Provider\"])"
   ]
  },
  {
   "cell_type": "code",
   "execution_count": null,
   "metadata": {},
   "outputs": [],
   "source": [
    "if df[\"Provider\"][row_count-1].strip() == \"Grand Total\":\n",
    "    df.drop(df.tail(1).index, inplace=True)\n",
    "    row_count-=1"
   ]
  },
  {
   "cell_type": "code",
   "execution_count": null,
   "metadata": {},
   "outputs": [],
   "source": [
    "#deleting rows where names are included in Visit Id or Visit Day column or if visit id is in visit day column\n",
    "\n",
    "i = row_count-1\n",
    "x = i-1\n",
    "while i > 0:\n",
    "    visitId = df[\"Visit ID\"][i]\n",
    "    visitDay = df[\"Visit Day\"][i]\n",
    "    provider = df[\"Provider\"][i]\n",
    "    clinic_name = str(df[\"Visit Clinic Name\"][i])\n",
    "    \n",
    "    if \"(\" in str(visitId) or \"(\" in str(visitDay) or \"/\" in str(visitId) or \"/\" not in str(visitDay) or \"wellnow\" not in str(clinic_name.lower()) or\\\n",
    "    \"subtotal\" in str(visitId).lower() or \"subtotal\" in str(visitDay).lower() or \"subtotal\" in str(clinic_name).lower() or \"subtotal\" in str(provider).lower():\n",
    "        df.drop(df.index[i], inplace=True)\n",
    "        row_count -= 1\n",
    "        i = x\n",
    "        x = i-1\n",
    "    else:\n",
    "        i-=1\n",
    "        x = i-1\n",
    "\n",
    "visitid0 = str(df[\"Visit ID\"][0]).split()[-1]\n",
    "visitday0 = str(df[\"Visit Day\"][0]).split()[-1]\n",
    "clinic0 = str(df[\"Visit Clinic Name\"][0]).lower()\n",
    "provider0 = df[\"Provider\"][i].lower()\n",
    "\n",
    "if \"(\" in visitid0 or \"(\" in visitday0 or \"/\" in visitid0 or \"/\" not in visitday0 or \"wellnow\" not in clinic0.lower() or\\\n",
    "    \"subtotal\" in visitid0.lower() or \"subtotal\" in visitday0 or \"subtotal\" in clinic0.lower() or \"subtotal\" in provider0.lower():\n",
    "        df.drop(df.index[0], inplace=True)\n",
    "        row_count -= 1"
   ]
  },
  {
   "cell_type": "code",
   "execution_count": null,
   "metadata": {},
   "outputs": [],
   "source": [
    "print(df.head(10))"
   ]
  },
  {
   "cell_type": "code",
   "execution_count": null,
   "metadata": {},
   "outputs": [],
   "source": [
    "dftop = df.head()\n",
    "l1 = []\n",
    "for row in df.index: \n",
    "    l1.append(row)\n",
    "# print(l1)"
   ]
  },
  {
   "cell_type": "code",
   "execution_count": null,
   "metadata": {},
   "outputs": [],
   "source": [
    "provider = []\n",
    "\n",
    "for i in l1:\n",
    "    val = str(df[\"Provider\"][i]).split()\n",
    "    del val[-1]\n",
    "    val = val[::-1]\n",
    "    \n",
    "    if len(val) == 2:\n",
    "        v = val[0]+','+' '+val[1]\n",
    "    elif len(val) == 1:\n",
    "        v = val[0]\n",
    "    else:\n",
    "        v = val\n",
    "    provider.append(v)"
   ]
  },
  {
   "cell_type": "code",
   "execution_count": null,
   "metadata": {},
   "outputs": [],
   "source": [
    "vid = []\n",
    "\n",
    "for i in l1:\n",
    "    v_id = int(df[\"Visit ID\"][i])\n",
    "    vid.append(v_id)"
   ]
  },
  {
   "cell_type": "code",
   "execution_count": null,
   "metadata": {},
   "outputs": [],
   "source": [
    "dates = []\n",
    "\n",
    "dos = []\n",
    "for i in l1:\n",
    "    d2 = datetime.datetime.strptime(df[\"Visit Day\"][i],'%m/%d/%Y').strftime('%m/%d/%y')\n",
    "    dos.append(d2)\n",
    "    \n",
    "    d3 = datetime.datetime.strptime(d2,'%m/%d/%y')\n",
    "    df[\"Visit Day\"][i] = d3\n",
    "    dates.append(d3)"
   ]
  },
  {
   "cell_type": "code",
   "execution_count": null,
   "metadata": {},
   "outputs": [],
   "source": [
    "visit_clinic_name = []\n",
    "for i in l1:\n",
    "    visit_clinic_val = df[\"Visit Clinic Name\"][i]\n",
    "    visit_clinic_name.append(visit_clinic_val)"
   ]
  },
  {
   "cell_type": "markdown",
   "metadata": {},
   "source": [
    "# copy the data into the TEMPLATE file"
   ]
  },
  {
   "cell_type": "code",
   "execution_count": null,
   "metadata": {},
   "outputs": [],
   "source": [
    "df[\"Provider\"] = provider\n",
    "df[\"Visit ID\"] = vid\n",
    "df[\"Visit Day\"] = dates\n",
    "df[\"Visit Clinic Name\"] = visit_clinic_name\n",
    "\n",
    "writer = pd.ExcelWriter(r\"OUTPUT FILE.xlsx\", engine = 'xlsxwriter')\n",
    "df0 = pd.DataFrame(list(zip(provider,vid,dates,dos,visit_clinic_name)), columns =['Provider','Visit ID', 'Visit Day','DOS','Visit Clinic Name'])\n",
    "df0.to_excel(writer, sheet_name = \"Table1\", index = False)\n",
    "# df.to_excel(r\"C:\\Users\\w501738\\Desktop\\chartsnotlockedTEST.xlsx\",index = False)"
   ]
  },
  {
   "cell_type": "code",
   "execution_count": null,
   "metadata": {},
   "outputs": [],
   "source": [
    "writer.save()\n",
    "writer.close()"
   ]
  },
  {
   "cell_type": "code",
   "execution_count": null,
   "metadata": {},
   "outputs": [],
   "source": []
  }
 ],
 "metadata": {
  "kernelspec": {
   "display_name": "Python 3",
   "language": "python",
   "name": "python3"
  },
  "language_info": {
   "codemirror_mode": {
    "name": "ipython",
    "version": 3
   },
   "file_extension": ".py",
   "mimetype": "text/x-python",
   "name": "python",
   "nbconvert_exporter": "python",
   "pygments_lexer": "ipython3",
   "version": "3.7.4"
  }
 },
 "nbformat": 4,
 "nbformat_minor": 2
}
