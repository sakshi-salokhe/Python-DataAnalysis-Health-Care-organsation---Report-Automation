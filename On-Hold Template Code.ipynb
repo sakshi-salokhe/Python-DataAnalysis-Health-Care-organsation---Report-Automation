{
 "cells": [
  {
   "cell_type": "code",
   "execution_count": null,
   "metadata": {},
   "outputs": [],
   "source": [
    "import pandas as pd\n",
    "import calendar as calendar\n",
    "from datetime import datetime"
   ]
  },
  {
   "cell_type": "code",
   "execution_count": null,
   "metadata": {},
   "outputs": [],
   "source": [
    "path_op = r\"RAW DATA FILE.xlsx\""
   ]
  },
  {
   "cell_type": "code",
   "execution_count": null,
   "metadata": {},
   "outputs": [],
   "source": [
    "df_data = pd.read_excel(path_op)"
   ]
  },
  {
   "cell_type": "code",
   "execution_count": null,
   "metadata": {},
   "outputs": [],
   "source": [
    "cols = len(df_data.columns)\n",
    "new_row = []\n",
    "alpha = 'Row'\n",
    "for i in range(cols):\n",
    "    colname = \"row\" + str(i+1)\n",
    "    new_row.append(colname)\n",
    "df_data.columns = new_row\n",
    "\n",
    "df_data.columns = [\"A\",\"B\",\"C\",\"D\",\"E\",\"F\",\"G\",\"H\"]#,\"I\",\"J\",\"K\",\"L\",\"M\",\"N\",\"O\",\"P\",\"Q\",\"R\",\"S\",\"T\",\"U\",\"V\",\"W\",\"X\",\"Y\",\"Z\"]\n",
    "# print(df_main.columns)\n",
    "df_data.head(3)"
   ]
  },
  {
   "cell_type": "code",
   "execution_count": null,
   "metadata": {},
   "outputs": [],
   "source": [
    "row_count = sum(1 for row in df_data[\"A\"])"
   ]
  },
  {
   "cell_type": "code",
   "execution_count": null,
   "metadata": {},
   "outputs": [],
   "source": [
    "# go from 0 till row_count-2\n",
    "today = datetime.today().strftime('%m/%d/%Y')\n",
    "date_end = ['Date End']\n",
    "age = ['Age']\n",
    "\n",
    "for i in range(1,row_count-1):\n",
    "    thedate = (df_data[\"A\"][i])\n",
    "#     print(thedate)\n",
    "#     thedate = datetime.strptime(thedate1 , '%m/%d/%Y')\n",
    "#     thethedate = thedate.date()\n",
    "    date_end.append(today)\n",
    "    d1 = datetime.strptime(today, \"%m/%d/%Y\")\n",
    "#     d2 = datetime.strptime(thedate, \"%m/%d/%Y\")\n",
    "    diff = abs((thedate - d1).days)\n",
    "    age.append(diff)"
   ]
  },
  {
   "cell_type": "code",
   "execution_count": null,
   "metadata": {},
   "outputs": [],
   "source": [
    "# df1 = pd.DataFrame(list(zip(date_end, age)), columns =['Date End', 'Age'])\n",
    "# df1.to_excel(writer, sheet_name = \"data\")\n",
    "\n",
    "# writer.save()\n",
    "# writer.close()\n",
    "date_end.append('lastrow')\n",
    "age.append('lastrow')\n",
    "\n",
    "df_data['I'] = date_end\n",
    "df_data['J'] = age\n",
    "df_data.to_excel(path_op)"
   ]
  }
 ],
 "metadata": {
  "kernelspec": {
   "display_name": "Python 3",
   "language": "python",
   "name": "python3"
  },
  "language_info": {
   "codemirror_mode": {
    "name": "ipython",
    "version": 3
   },
   "file_extension": ".py",
   "mimetype": "text/x-python",
   "name": "python",
   "nbconvert_exporter": "python",
   "pygments_lexer": "ipython3",
   "version": "3.7.4"
  }
 },
 "nbformat": 4,
 "nbformat_minor": 2
}
