{
 "cells": [
  {
   "cell_type": "code",
   "execution_count": null,
   "metadata": {},
   "outputs": [],
   "source": [
    "import pandas as pd\n",
    "from statistics import mean\n",
    "import calendar"
   ]
  },
  {
   "cell_type": "code",
   "execution_count": null,
   "metadata": {},
   "outputs": [],
   "source": [
    "df = pd.read_excel(r\"RAW DATA FILE.xlsx\")"
   ]
  },
  {
   "cell_type": "code",
   "execution_count": null,
   "metadata": {},
   "outputs": [],
   "source": [
    "path = r\"OUTPUT FILE.xlsx\"\n",
    "writer = pd.ExcelWriter(path, engine = 'xlsxwriter')"
   ]
  },
  {
   "cell_type": "code",
   "execution_count": null,
   "metadata": {},
   "outputs": [],
   "source": [
    "rowcount = sum(1 for row in df['Visit ID'])"
   ]
  },
  {
   "cell_type": "code",
   "execution_count": null,
   "metadata": {
    "scrolled": false
   },
   "outputs": [],
   "source": [
    "age = []\n",
    "\n",
    "for i in range(0, rowcount):\n",
    "    days_in_visit_date = df['Days in Visit Date'][i]\n",
    "    days_in_transaction_date = df['Days in Transaction Date'][i]\n",
    "    age_val = (days_in_transaction_date - days_in_visit_date).days\n",
    "    age.append(age_val)"
   ]
  },
  {
   "cell_type": "code",
   "execution_count": null,
   "metadata": {},
   "outputs": [],
   "source": [
    "final_age_list = age\n",
    "# print(final_age_list)"
   ]
  },
  {
   "cell_type": "code",
   "execution_count": null,
   "metadata": {},
   "outputs": [],
   "source": [
    "val_18 = []\n",
    "val_19 = []\n",
    "val_20 = []\n",
    "\n",
    "for i in range(0, rowcount):\n",
    "    days_in_transaction_date = df['Days in Transaction Date'][i]\n",
    "    y = days_in_transaction_date.year\n",
    "    m = days_in_transaction_date.month\n",
    "    \n",
    "    ageval = age[i]\n",
    "    code = df['Transaction Code'][i]\n",
    "    \n",
    "    if y == '2020' or y == 2020:\n",
    "        tup = (m, code, ageval)\n",
    "        val_20.append(tup)\n",
    "    if y == '2019' or y == 2019:\n",
    "        tup = (m, code, ageval)\n",
    "        val_19.append(tup)\n",
    "    if y == '2018' or y == 2018:\n",
    "        tup = (m, code, ageval)\n",
    "        val_18.append(tup)"
   ]
  },
  {
   "cell_type": "code",
   "execution_count": null,
   "metadata": {},
   "outputs": [],
   "source": [
    "acol_18 = {}\n",
    "afacoll_18 = {}\n",
    "aomempcoll_18 = {}\n",
    "\n",
    "for tup in val_18:\n",
    "    if 'acol' in tup:\n",
    "        m = tup[0]\n",
    "        age = tup[2]\n",
    "        if m not in acol_18:\n",
    "            acol_18[m] = [age]\n",
    "        else:\n",
    "            acol_18[m].append(age)\n",
    "    elif 'afacoll' in tup:\n",
    "        m = tup[0]\n",
    "        age = tup[2]\n",
    "        if m not in afacoll_18:\n",
    "            afacoll_18[m] = [age]\n",
    "        else:\n",
    "            afacoll_18[m].append(age)\n",
    "    elif 'aomempcoll' in tup:\n",
    "        m = tup[0]\n",
    "        age = tup[2]\n",
    "        if m not in aomempcoll_18:\n",
    "            aomempcoll_18[m] = [age]\n",
    "        else:\n",
    "            aomempcoll_18[m].append(age)"
   ]
  },
  {
   "cell_type": "code",
   "execution_count": null,
   "metadata": {},
   "outputs": [],
   "source": [
    "final_acol_18 = {}\n",
    "final_afacoll_18 = {}\n",
    "final_aomempcoll_18 = {}\n",
    "\n",
    "for k,v in acol_18.items():\n",
    "    val = mean(v)\n",
    "    final_acol_18[k] = round(val)\n",
    "\n",
    "for k,v in afacoll_18.items():\n",
    "    val = mean(v)\n",
    "    final_afacoll_18[k] = round(val)\n",
    "    \n",
    "for k,v in aomempcoll_18.items():\n",
    "    val = mean(v)\n",
    "    final_aomempcoll_18[k] = round(val)"
   ]
  },
  {
   "cell_type": "code",
   "execution_count": null,
   "metadata": {},
   "outputs": [],
   "source": [
    "acol_19 = {}\n",
    "afacoll_19 = {}\n",
    "aomempcoll_19 = {}\n",
    "\n",
    "for tup in val_19:\n",
    "    if 'acol' in tup:\n",
    "        m = tup[0]\n",
    "        age = tup[2]\n",
    "        if m not in acol_19:\n",
    "            acol_19[m] = [age]\n",
    "        else:\n",
    "            acol_19[m].append(age)\n",
    "    elif 'afacoll' in tup:\n",
    "        m = tup[0]\n",
    "        age = tup[2]\n",
    "        if m not in afacoll_19:\n",
    "            afacoll_19[m] = [age]\n",
    "        else:\n",
    "            afacoll_19[m].append(age)\n",
    "    elif 'aomempcoll' in tup:\n",
    "        m = tup[0]\n",
    "        age = tup[2]\n",
    "        if m not in aomempcoll_19:\n",
    "            aomempcoll_19[m] = [age]\n",
    "        else:\n",
    "            aomempcoll_19[m].append(age)"
   ]
  },
  {
   "cell_type": "code",
   "execution_count": null,
   "metadata": {},
   "outputs": [],
   "source": [
    "final_acol_19 = {}\n",
    "final_afacoll_19 = {}\n",
    "final_aomempcoll_19 = {}\n",
    "\n",
    "for k,v in acol_19.items():\n",
    "    val = mean(v)\n",
    "    final_acol_19[k] = round(val)\n",
    "\n",
    "for k,v in afacoll_19.items():\n",
    "    val = mean(v)\n",
    "    final_afacoll_19[k] = round(val)\n",
    "    \n",
    "for k,v in aomempcoll_19.items():\n",
    "    val = mean(v)\n",
    "    final_aomempcoll_19[k] = round(val)"
   ]
  },
  {
   "cell_type": "code",
   "execution_count": null,
   "metadata": {},
   "outputs": [],
   "source": [
    "acol_20 = {}\n",
    "afacoll_20 = {}\n",
    "aomempcoll_20 = {}\n",
    "\n",
    "for tup in val_20:\n",
    "    if 'acol' in tup:\n",
    "        m = tup[0]\n",
    "        age = tup[2]\n",
    "        if m not in acol_20:\n",
    "            acol_20[m] = [age]\n",
    "        else:\n",
    "            acol_20[m].append(age)\n",
    "    elif 'afacoll' in tup:\n",
    "        m = tup[0]\n",
    "        age = tup[2]\n",
    "        if m not in afacoll_20:\n",
    "            afacoll_20[m] = [age]\n",
    "        else:\n",
    "            afacoll_20[m].append(age)\n",
    "    elif 'aomempcoll' in tup:\n",
    "        m = tup[0]\n",
    "        age = tup[2]\n",
    "        if m not in aomempcoll_20:\n",
    "            aomempcoll_20[m] = [age]\n",
    "        else:\n",
    "            aomempcoll_20[m].append(age)"
   ]
  },
  {
   "cell_type": "code",
   "execution_count": null,
   "metadata": {},
   "outputs": [],
   "source": [
    "final_acol_20 = {}\n",
    "final_afacoll_20 = {}\n",
    "final_aomempcoll_20 = {}\n",
    "\n",
    "for k,v in acol_20.items():\n",
    "    val = mean(v)\n",
    "    final_acol_20[k] = round(val)\n",
    "\n",
    "for k,v in afacoll_20.items():\n",
    "    val = mean(v)\n",
    "    final_afacoll_20[k] = round(val)\n",
    "    \n",
    "for k,v in aomempcoll_20.items():\n",
    "    val = mean(v)\n",
    "    final_aomempcoll_20[k] = round(val)\n"
   ]
  },
  {
   "cell_type": "code",
   "execution_count": null,
   "metadata": {},
   "outputs": [],
   "source": [
    "final_acol_18_dict = {}\n",
    "for k in sorted(final_acol_18.keys()):\n",
    "    final_acol_18_dict[k] = final_acol_18[k]\n",
    "    \n",
    "final_afacoll_18_dict = {}\n",
    "for k in sorted(final_afacoll_18.keys()):\n",
    "    final_afacoll_18_dict[k] = final_afacoll_18[k]\n",
    "    \n",
    "final_aomempcoll_18_dict = {}\n",
    "for k in sorted(final_aomempcoll_18.keys()):\n",
    "    final_aomempcoll_18_dict[k] = final_aomempcoll_18[k]"
   ]
  },
  {
   "cell_type": "code",
   "execution_count": null,
   "metadata": {},
   "outputs": [],
   "source": [
    "print(final_acol_18_dict)\n",
    "print(final_afacoll_18_dict)\n",
    "print(final_aomempcoll_18_dict)"
   ]
  },
  {
   "cell_type": "code",
   "execution_count": null,
   "metadata": {},
   "outputs": [],
   "source": [
    "final_acol_19_dict = {}\n",
    "for k in sorted(final_acol_19.keys()):\n",
    "    final_acol_19_dict[k] = final_acol_19[k]\n",
    "    \n",
    "final_afacoll_19_dict = {}\n",
    "for k in sorted(final_afacoll_19.keys()):\n",
    "    final_afacoll_19_dict[k] = final_afacoll_19[k]\n",
    "    \n",
    "final_aomempcoll_19_dict = {}\n",
    "for k in sorted(final_aomempcoll_19.keys()):\n",
    "    final_aomempcoll_19_dict[k] = final_aomempcoll_19[k]\n",
    "\n",
    "print(final_acol_19_dict)\n",
    "print(final_afacoll_19_dict)\n",
    "print(final_aomempcoll_19_dict)"
   ]
  },
  {
   "cell_type": "code",
   "execution_count": null,
   "metadata": {},
   "outputs": [],
   "source": [
    "final_acol_20_dict = {}\n",
    "for k in sorted(final_acol_20.keys()):\n",
    "    final_acol_20_dict[k] = final_acol_20[k]\n",
    "    \n",
    "final_afacoll_20_dict = {}\n",
    "for k in sorted(final_afacoll_20.keys()):\n",
    "    final_afacoll_20_dict[k] = final_afacoll_20[k]\n",
    "    \n",
    "final_aomempcoll_20_dict = {}\n",
    "for k in sorted(final_aomempcoll_20.keys()):\n",
    "    final_aomempcoll_20_dict[k] = final_aomempcoll_20[k]\n",
    "\n",
    "print(final_acol_20_dict)\n",
    "print(final_afacoll_20_dict)\n",
    "print(final_aomempcoll_20_dict)"
   ]
  },
  {
   "cell_type": "code",
   "execution_count": null,
   "metadata": {},
   "outputs": [],
   "source": [
    "month_list18 = []\n",
    "month_num18 = []\n",
    "\n",
    "for k,v in final_acol_18_dict.items():\n",
    "    if calendar.month_name[k] not in month_list18:\n",
    "        month_list18.append(calendar.month_name[k])\n",
    "        month_num18.append(k)\n",
    "\n",
    "for k,v in final_afacoll_18_dict.items():\n",
    "    if calendar.month_name[k] not in month_list18:\n",
    "        month_list18.append(calendar.month_name[k])\n",
    "        month_num18.append(k)\n",
    "        \n",
    "for k,v in final_aomempcoll_18_dict.items():\n",
    "    if calendar.month_name[k] not in month_list18:\n",
    "        month_list18.append(calendar.month_name[k])\n",
    "        month_num18.append(k)\n",
    "        \n",
    "print(month_list18)\n",
    "print(month_num18)"
   ]
  },
  {
   "cell_type": "code",
   "execution_count": null,
   "metadata": {},
   "outputs": [],
   "source": [
    "month_list19 = []\n",
    "month_num19 = []\n",
    "\n",
    "for k,v in final_acol_19_dict.items():\n",
    "    if calendar.month_name[k] not in month_list19:\n",
    "        month_list19.append(calendar.month_name[k])\n",
    "        month_num19.append(k)\n",
    "\n",
    "for k,v in final_afacoll_19_dict.items():\n",
    "    if calendar.month_name[k] not in month_list19:\n",
    "        month_list19.append(calendar.month_name[k])\n",
    "        month_num19.append(k)\n",
    "        \n",
    "for k,v in final_aomempcoll_19_dict.items():\n",
    "    if calendar.month_name[k] not in month_list19:\n",
    "        month_list19.append(calendar.month_name[k])\n",
    "        month_num19.append(k)\n",
    "        \n",
    "print(month_list19)\n",
    "print(month_num19)"
   ]
  },
  {
   "cell_type": "code",
   "execution_count": null,
   "metadata": {},
   "outputs": [],
   "source": [
    "month_list20 = []\n",
    "month_num20 = []\n",
    "\n",
    "for k,v in final_acol_20_dict.items():\n",
    "    if calendar.month_name[k] not in month_list20:\n",
    "        month_list20.append(calendar.month_name[k])\n",
    "        month_num20.append(k)\n",
    "\n",
    "for k,v in final_afacoll_20_dict.items():\n",
    "    if calendar.month_name[k] not in month_list20:\n",
    "        month_list20.append(calendar.month_name[k])\n",
    "        month_num20.append(k)\n",
    "        \n",
    "for k,v in final_aomempcoll_20_dict.items():\n",
    "    if calendar.month_name[k] not in month_list20:\n",
    "        month_list20.append(calendar.month_name[k])\n",
    "        month_num20.append(k)\n",
    "        \n",
    "print(month_list20)\n",
    "print(month_num20)"
   ]
  },
  {
   "cell_type": "code",
   "execution_count": null,
   "metadata": {},
   "outputs": [],
   "source": [
    "l1 = ['2018']+month_list18\n",
    "l2 = ['2019']+month_list19\n",
    "l3 = ['2020']+month_list20\n",
    "\n",
    "A = ['Transaction Month']+l1\n",
    "A = A + l2 +l3\n",
    "print(A)"
   ]
  },
  {
   "cell_type": "code",
   "execution_count": null,
   "metadata": {},
   "outputs": [],
   "source": [
    "acol_val18 = []\n",
    "afacoll_val18 = []\n",
    "aomempcoll_val18 = []\n",
    "\n",
    "for i in month_num18:\n",
    "    if i in final_acol_18_dict:\n",
    "        acol_val18.append(final_acol_18_dict.get(i))\n",
    "    else:\n",
    "        acol_val18.append(\" \")\n",
    "    \n",
    "    if i in final_afacoll_18_dict:\n",
    "        afacoll_val18.append(final_afacoll_18_dict.get(i))\n",
    "    else:\n",
    "        afacoll_val18.append(\" \")\n",
    "    \n",
    "    if i in final_aomempcoll_18_dict:\n",
    "        aomempcoll_val18.append(final_aomempcoll_18_dict.get(i))\n",
    "    else:\n",
    "        aomempcoll_val18.append(\" \")"
   ]
  },
  {
   "cell_type": "code",
   "execution_count": null,
   "metadata": {},
   "outputs": [],
   "source": [
    "acol_val19 = []\n",
    "afacoll_val19 = []\n",
    "aomempcoll_val19 = []\n",
    "\n",
    "for i in month_num19:\n",
    "    if i in final_acol_19_dict:\n",
    "        acol_val19.append(final_acol_19_dict.get(i))\n",
    "    else:\n",
    "        acol_val19.append(\" \")\n",
    "    \n",
    "    if i in final_afacoll_19_dict:\n",
    "        afacoll_val19.append(final_afacoll_19_dict.get(i))\n",
    "    else:\n",
    "        afacoll_val19.append(\" \")\n",
    "    \n",
    "    if i in final_aomempcoll_19_dict:\n",
    "        aomempcoll_val19.append(final_aomempcoll_19_dict.get(i))\n",
    "    else:\n",
    "        aomempcoll_val19.append(\" \")"
   ]
  },
  {
   "cell_type": "code",
   "execution_count": null,
   "metadata": {},
   "outputs": [],
   "source": [
    "acol_val20 = []\n",
    "afacoll_val20 = []\n",
    "aomempcoll_val20 = []\n",
    "\n",
    "for i in month_num20:\n",
    "    if i in final_acol_20_dict:\n",
    "        acol_val20.append(final_acol_20_dict.get(i))\n",
    "    else:\n",
    "        acol_val20.append(\" \")\n",
    "    \n",
    "    if i in final_afacoll_20_dict:\n",
    "        afacoll_val20.append(final_afacoll_20_dict.get(i))\n",
    "    else:\n",
    "        afacoll_val20.append(\" \")\n",
    "    \n",
    "    if i in final_aomempcoll_20_dict:\n",
    "        aomempcoll_val20.append(final_aomempcoll_20_dict.get(i))\n",
    "    else:\n",
    "        aomempcoll_val20.append(\" \")"
   ]
  },
  {
   "cell_type": "code",
   "execution_count": null,
   "metadata": {},
   "outputs": [],
   "source": [
    "B = ['acol']+[' ']+acol_val18+[' ']+acol_val19+[' ']+acol_val20\n",
    "C = ['afacoll']+[' ']+afacoll_val18+[' ']+afacoll_val19+[' ']+afacoll_val20\n",
    "D = ['aomempcoll']+[' ']+aomempcoll_val18+[' ']+aomempcoll_val19+[' ']+aomempcoll_val20"
   ]
  },
  {
   "cell_type": "code",
   "execution_count": null,
   "metadata": {},
   "outputs": [],
   "source": [
    "print(B)\n",
    "print(C)\n",
    "print(D)\n",
    "\n",
    "print(type(B[2]))"
   ]
  },
  {
   "cell_type": "code",
   "execution_count": null,
   "metadata": {},
   "outputs": [],
   "source": [
    "pt_coll_days_in_lag = []\n",
    "\n",
    "for i in B:\n",
    "    if type(i) == int:\n",
    "        v = i * 12 / 365\n",
    "        val = str(round(v, 2))\n",
    "        pt_coll_days_in_lag.append(val)\n",
    "    else:\n",
    "        pt_coll_days_in_lag.append(\" \")\n",
    "        "
   ]
  },
  {
   "cell_type": "code",
   "execution_count": null,
   "metadata": {},
   "outputs": [],
   "source": [
    "wc_ins_coll_days_in_lag = []\n",
    "\n",
    "for i in C:\n",
    "    if type(i) == int:\n",
    "        v = i * 12 / 365\n",
    "        val = str(round(v, 2))\n",
    "        wc_ins_coll_days_in_lag.append(val)\n",
    "    else:\n",
    "        wc_ins_coll_days_in_lag.append(\" \")"
   ]
  },
  {
   "cell_type": "code",
   "execution_count": null,
   "metadata": {},
   "outputs": [],
   "source": [
    "om_emp_coll_days_in_lag = []\n",
    "\n",
    "for i in D:\n",
    "    if type(i) == int:\n",
    "        v = i * 12 / 365\n",
    "        val = str(round(v, 2))\n",
    "        om_emp_coll_days_in_lag.append(val)\n",
    "    else:\n",
    "        om_emp_coll_days_in_lag.append(\" \")"
   ]
  },
  {
   "cell_type": "code",
   "execution_count": null,
   "metadata": {},
   "outputs": [],
   "source": [
    "df0 = pd.DataFrame(list(zip(A,B,C,D,pt_coll_days_in_lag, wc_ins_coll_days_in_lag, om_emp_coll_days_in_lag)), columns =['A','B', 'C','D','E', 'F', 'G'])\n",
    "df0.to_excel(writer, sheet_name = \"Table1\", index = False)"
   ]
  },
  {
   "cell_type": "code",
   "execution_count": null,
   "metadata": {},
   "outputs": [],
   "source": [
    "df['Age'] = final_age_list\n",
    "df.to_excel(writer, sheet_name = \"Data\", index = False)"
   ]
  },
  {
   "cell_type": "code",
   "execution_count": null,
   "metadata": {},
   "outputs": [],
   "source": [
    "writer.save()\n",
    "writer.close()"
   ]
  },
  {
   "cell_type": "code",
   "execution_count": null,
   "metadata": {},
   "outputs": [],
   "source": []
  }
 ],
 "metadata": {
  "kernelspec": {
   "display_name": "Python 3",
   "language": "python",
   "name": "python3"
  },
  "language_info": {
   "codemirror_mode": {
    "name": "ipython",
    "version": 3
   },
   "file_extension": ".py",
   "mimetype": "text/x-python",
   "name": "python",
   "nbconvert_exporter": "python",
   "pygments_lexer": "ipython3",
   "version": "3.7.4"
  }
 },
 "nbformat": 4,
 "nbformat_minor": 2
}
