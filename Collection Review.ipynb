{
 "cells": [
  {
   "cell_type": "code",
   "execution_count": null,
   "metadata": {},
   "outputs": [],
   "source": [
    "import pandas as pd\n",
    "import math"
   ]
  },
  {
   "cell_type": "code",
   "execution_count": null,
   "metadata": {},
   "outputs": [],
   "source": [
    "df = pd.read_excel(r\"DATA FILE.xlsx\")"
   ]
  },
  {
   "cell_type": "code",
   "execution_count": null,
   "metadata": {},
   "outputs": [],
   "source": [
    "rowcount = sum(1 for row in df[\"DOS\"])"
   ]
  },
  {
   "cell_type": "code",
   "execution_count": null,
   "metadata": {},
   "outputs": [],
   "source": [
    "dict1 = {}\n",
    "\n",
    "for i in range(rowcount):\n",
    "    if df[\"Visit ID\"][i] not in dict1:\n",
    "        vid = df[\"Visit ID\"][i]\n",
    "        l1 = []\n",
    "        \n",
    "        l1.append(df[\"DOS\"][i])\n",
    "        l1.append(df[\"Date Assigned\"][i])\n",
    "        l1.append(df[\"Assigned Code\"][i])\n",
    "        l1.append(df[\"Assigned Adj\"][i])\n",
    "        l1.append(df[\"Assigned Rev\"][i])\n",
    "        l1.append(df[\"Date of Recovery\"][i])\n",
    "        l1.append(df[\"Recovery Code\"][i])\n",
    "        l1.append(df[\"Recovery Rev\"][i])\n",
    "        l1.append(df[\"Recovery Adj\"][i])\n",
    "        l1.append(df[\"Recovery Age\"][i])\n",
    "        \n",
    "        dict1[vid] = l1\n",
    "    else:\n",
    "        vid = df[\"Visit ID\"][i]\n",
    "        \n",
    "        new_date_assigned = df[\"Date Assigned\"][i]\n",
    "        \n",
    "        old_val_list = dict1[vid]\n",
    "        old_date_assigned = old_val_list[1]\n",
    "        \n",
    "        if old_date_assigned > new_date_assigned:\n",
    "            dict1[vid] = [df[\"DOS\"][i], new_date_assigned,df[\"Assigned Code\"][i],df[\"Assigned Adj\"][i],df[\"Assigned Rev\"][i],df[\"Date of Recovery\"][i],df[\"Recovery Code\"][i],df[\"Recovery Rev\"][i],df[\"Recovery Adj\"][i], df[\"Recovery Age\"][i]]"
   ]
  },
  {
   "cell_type": "code",
   "execution_count": null,
   "metadata": {},
   "outputs": [],
   "source": [
    "print(len(dict1))"
   ]
  },
  {
   "cell_type": "code",
   "execution_count": null,
   "metadata": {},
   "outputs": [],
   "source": [
    "vid = []\n",
    "dos = []\n",
    "da = []\n",
    "ac = []\n",
    "aa = []\n",
    "ar = []\n",
    "dor = []\n",
    "rc = []\n",
    "rr = []\n",
    "ra = []\n",
    "ra2 = []\n",
    "\n",
    "for k,v in dict1.items():\n",
    "    vid.append(k)\n",
    "    \n",
    "    dos.append(v[0])\n",
    "    da.append(v[1])\n",
    "    ac.append(v[2])\n",
    "    aa.append(v[3])\n",
    "    ar.append(v[4])\n",
    "    dor.append(v[5])\n",
    "    rc.append(v[6])\n",
    "    rr.append(v[7])\n",
    "    ra.append(v[8])\n",
    "    ra2.append(v[9])"
   ]
  },
  {
   "cell_type": "code",
   "execution_count": null,
   "metadata": {},
   "outputs": [],
   "source": [
    "print(len(vid))\n",
    "print(len(dos))\n",
    "print(len(da))\n",
    "print(len(ac))\n",
    "print(len(aa))\n",
    "print(len(ar))\n",
    "print(len(dor))\n",
    "print(len(rc))\n",
    "print(len(rr))\n",
    "print(len(ra))\n",
    "print(len(ra2))"
   ]
  },
  {
   "cell_type": "code",
   "execution_count": null,
   "metadata": {},
   "outputs": [],
   "source": [
    "path_op = r\"OUTPUT FILE.xlsx\"\n",
    "writer = pd.ExcelWriter(path_op, engine = 'xlsxwriter')"
   ]
  },
  {
   "cell_type": "code",
   "execution_count": null,
   "metadata": {},
   "outputs": [],
   "source": [
    "df1 = pd.DataFrame(list(zip(vid,dos,da,ac,aa,ar,dor,rc,rr,ra,ra2)), columns =['vid','dos','da','ac','aa','ar','dor','rc','rr','ra','ra2'])\n",
    "df1.to_excel(writer, sheet_name = \"data\")\n",
    "\n",
    "writer.save()\n",
    "writer.close()"
   ]
  },
  {
   "cell_type": "code",
   "execution_count": null,
   "metadata": {},
   "outputs": [],
   "source": []
  }
 ],
 "metadata": {
  "kernelspec": {
   "display_name": "Python 3",
   "language": "python",
   "name": "python3"
  },
  "language_info": {
   "codemirror_mode": {
    "name": "ipython",
    "version": 3
   },
   "file_extension": ".py",
   "mimetype": "text/x-python",
   "name": "python",
   "nbconvert_exporter": "python",
   "pygments_lexer": "ipython3",
   "version": "3.7.4"
  }
 },
 "nbformat": 4,
 "nbformat_minor": 2
}
