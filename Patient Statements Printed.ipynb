{
 "cells": [
  {
   "cell_type": "code",
   "execution_count": null,
   "metadata": {},
   "outputs": [],
   "source": [
    "import pandas as pd\n",
    "import calendar as calendar\n",
    "from datetime import datetime"
   ]
  },
  {
   "cell_type": "markdown",
   "metadata": {},
   "source": [
    "# Copy the two values in next cell from  Waystar/Print Services/ Reports/ Document Activity report"
   ]
  },
  {
   "cell_type": "code",
   "execution_count": null,
   "metadata": {},
   "outputs": [],
   "source": [
    "billable_documents = 671 #third last column\n",
    "total_pages = 725 # last column"
   ]
  },
  {
   "cell_type": "code",
   "execution_count": null,
   "metadata": {},
   "outputs": [],
   "source": [
    "df_docutap_data = pd.read_csv(r\"DOCUTAP RAW FILE.csv\")\n",
    "\n",
    "df_waystar_print_services_summary_report = pd.read_excel(r\"WAYSTAR RAW FILE.xlsx\")\n"
   ]
  },
  {
   "cell_type": "code",
   "execution_count": null,
   "metadata": {},
   "outputs": [],
   "source": [
    "path_op = r\"OUTPUT.xlsx\"\n",
    "writer = pd.ExcelWriter(path_op, engine = 'xlsxwriter')"
   ]
  },
  {
   "cell_type": "code",
   "execution_count": null,
   "metadata": {
    "scrolled": true
   },
   "outputs": [],
   "source": [
    "cols = len(df_docutap_data.columns)\n",
    "new_row = []\n",
    "alpha = 'Row'\n",
    "for i in range(cols):\n",
    "    colname = \"row\" + str(i+1)\n",
    "    new_row.append(colname)\n",
    "df_docutap_data.columns = new_row\n",
    "\n",
    "df_docutap_data.columns = [\"A\",\"B\",\"C\",\"D\",\"E\",\"F\",\"G\",\"H\",\"I\",\"J\",\"K\",\"L\",\"M\",\"N\",\"O\",\"P\",\"Q\",\"R\",\"S\",\"T\",\"U\",\"V\",\"W\",\"X\",\"Y\",\"Z\",\"AA\",\"AB\",\"AC\"]\n",
    "# print(df_main.columns)\n",
    "df_docutap_data.head(3)"
   ]
  },
  {
   "cell_type": "code",
   "execution_count": null,
   "metadata": {},
   "outputs": [],
   "source": [
    "cols = len(df_waystar_print_services_summary_report.columns)\n",
    "new_row = []\n",
    "alpha = 'Row'\n",
    "for i in range(cols):\n",
    "    colname = \"row\" + str(i+1)\n",
    "    new_row.append(colname)\n",
    "df_waystar_print_services_summary_report.columns = new_row\n",
    "\n",
    "df_waystar_print_services_summary_report.columns = [\"A\",\"B\",\"C\",\"D\",\"E\",\"F\",\"G\",\"H\"]\n",
    "# print(df_main.columns)\n",
    "df_waystar_print_services_summary_report"
   ]
  },
  {
   "cell_type": "code",
   "execution_count": null,
   "metadata": {},
   "outputs": [],
   "source": [
    "this_week_row = []"
   ]
  },
  {
   "cell_type": "code",
   "execution_count": null,
   "metadata": {},
   "outputs": [],
   "source": [
    "def conversion(num):\n",
    "    if \"$\" in num:\n",
    "        val = num.split(\"$\")\n",
    "        if \",\" in val[1]:\n",
    "            val2 = val[1].split(\",\")\n",
    "            ans1 = ''.join(val2)\n",
    "            ans = float(ans1)\n",
    "        else:\n",
    "            ans = float(val[1])\n",
    "    elif \"$\" not in num:\n",
    "        if \",\" in num:\n",
    "            val = num.split(\",\")\n",
    "            ans1 = ''.join(val)\n",
    "            ans = float(ans1)\n",
    "        else:\n",
    "            ans = float(num)\n",
    "            \n",
    "    return ans"
   ]
  },
  {
   "cell_type": "markdown",
   "metadata": {},
   "source": [
    "# information from docutap"
   ]
  },
  {
   "cell_type": "code",
   "execution_count": null,
   "metadata": {},
   "outputs": [],
   "source": [
    "if len(df_docutap_data[\"C\"]) < 1:\n",
    "    DATE = \" \"\n",
    "    count_of_statements = 0\n",
    "    bal_on_statements = 0\n",
    "    file_status = \" \"\n",
    "    month_name = \" \"\n",
    "else: \n",
    "    date_range = df_docutap_data[\"C\"][0]\n",
    "    dat = date_range.split()\n",
    "    DATE = dat[3]\n",
    "    \n",
    "    \n",
    "    if type(df_docutap_data[\"Y\"][0]) == str:\n",
    "        count_of_statements = conversion(df_docutap_data[\"Y\"][0])\n",
    "    else:\n",
    "        count_of_statements = df_docutap_data[\"Y\"][0]\n",
    "        \n",
    "        \n",
    "        \n",
    "    if type(df_docutap_data[\"AA\"][0]) == str:\n",
    "        bal_on_statements = conversion(df_docutap_data[\"AA\"][0])\n",
    "    else:\n",
    "        bal_on_statements = df_docutap_data[\"AA\"][0]\n",
    "        \n",
    "    \n",
    "    file_status = \" \"\n",
    "    \n",
    "    \n",
    "    dat1 = dat[3].split('/')\n",
    "    month_num = int(dat1[0])\n",
    "    month_name = calendar.month_name[month_num]\n",
    "\n",
    "\n",
    "    \n",
    "print(DATE)\n",
    "this_week_row.append(DATE)\n",
    "    \n",
    "print(count_of_statements)\n",
    "this_week_row.append(count_of_statements)\n",
    "\n",
    "print(bal_on_statements)\n",
    "this_week_row.append(bal_on_statements)\n",
    "\n",
    "print(file_status)\n",
    "this_week_row.append(file_status)\n",
    "\n",
    "\n",
    "print(month_name)\n",
    "this_week_row.append(month_name)\n",
    "\n",
    "# print(this_week_row)"
   ]
  },
  {
   "cell_type": "markdown",
   "metadata": {},
   "source": [
    "# information from Waystar Print Services Summary report"
   ]
  },
  {
   "cell_type": "code",
   "execution_count": null,
   "metadata": {},
   "outputs": [],
   "source": [
    "if len(df_waystar_print_services_summary_report[\"B\"]) < 5:\n",
    "    address_issues = 0\n",
    "else:\n",
    "    address_issues = int(df_waystar_print_services_summary_report[\"B\"][4])\n",
    "# print(address_issues)\n",
    "this_week_row.append(address_issues)\n",
    "\n",
    "\n",
    "if len(df_waystar_print_services_summary_report[\"G\"]) < 5:\n",
    "    total_documents = 0\n",
    "else:\n",
    "    total_documents = int(df_waystar_print_services_summary_report[\"G\"][4])\n",
    "# print(total_documents)\n",
    "this_week_row.append(total_documents)\n",
    "\n",
    "\n",
    "if len(df_waystar_print_services_summary_report[\"C\"]) < 5:\n",
    "    not_mailed = 0\n",
    "else:\n",
    "    not_mailed = int(df_waystar_print_services_summary_report[\"C\"][4])\n",
    "# print(not_mailed)\n",
    "this_week_row.append(not_mailed)\n",
    "\n",
    "\n",
    "if len(df_waystar_print_services_summary_report[\"E\"]) < 5:\n",
    "    mailed = 0\n",
    "else:\n",
    "    mailed = int(df_waystar_print_services_summary_report[\"E\"][4])\n",
    "# print(mailed)\n",
    "this_week_row.append(mailed)\n"
   ]
  },
  {
   "cell_type": "markdown",
   "metadata": {},
   "source": [
    "# values copied above in cell 2"
   ]
  },
  {
   "cell_type": "code",
   "execution_count": null,
   "metadata": {},
   "outputs": [],
   "source": [
    "this_week_row.append(billable_documents)\n",
    "this_week_row.append(total_pages)\n",
    "\n",
    "\n",
    "#col L and M\n",
    "L = \" \"\n",
    "M = \" \"\n",
    "this_week_row.append(L)\n",
    "this_week_row.append(M)"
   ]
  },
  {
   "cell_type": "markdown",
   "metadata": {},
   "source": [
    "# calculations"
   ]
  },
  {
   "cell_type": "code",
   "execution_count": null,
   "metadata": {},
   "outputs": [],
   "source": [
    "invoicable = (0.65 * mailed) + ((total_pages-mailed) * 0.12)\n",
    "# print(invoicable)\n",
    "this_week_row.append(invoicable)\n",
    "\n",
    "\n",
    "today = datetime.today().strftime('%m/%d/%Y')\n",
    "d1 = datetime.strptime(today, \"%m/%d/%Y\")\n",
    "d2 = datetime.strptime(DATE, \"%m/%d/%Y\")\n",
    "\n",
    "age = abs((d2 - d1).days)\n",
    "print(age)\n",
    "this_week_row.append(age)\n",
    "\n",
    "preprocessing = \" \"\n",
    "this_week_row.append(preprocessing)"
   ]
  },
  {
   "cell_type": "code",
   "execution_count": null,
   "metadata": {},
   "outputs": [],
   "source": [
    "print(this_week_row)"
   ]
  },
  {
   "cell_type": "code",
   "execution_count": null,
   "metadata": {},
   "outputs": [],
   "source": [
    "df1 = pd.DataFrame(list(zip(this_week_row)), columns =['Insert as row'])\n",
    "df1.to_excel(writer, sheet_name = \"Paste as row\")\n"
   ]
  },
  {
   "cell_type": "code",
   "execution_count": null,
   "metadata": {},
   "outputs": [],
   "source": [
    "writer.save()\n",
    "writer.close()"
   ]
  },
  {
   "cell_type": "code",
   "execution_count": null,
   "metadata": {},
   "outputs": [],
   "source": []
  }
 ],
 "metadata": {
  "kernelspec": {
   "display_name": "Python 3",
   "language": "python",
   "name": "python3"
  },
  "language_info": {
   "codemirror_mode": {
    "name": "ipython",
    "version": 3
   },
   "file_extension": ".py",
   "mimetype": "text/x-python",
   "name": "python",
   "nbconvert_exporter": "python",
   "pygments_lexer": "ipython3",
   "version": "3.7.4"
  }
 },
 "nbformat": 4,
 "nbformat_minor": 2
}
