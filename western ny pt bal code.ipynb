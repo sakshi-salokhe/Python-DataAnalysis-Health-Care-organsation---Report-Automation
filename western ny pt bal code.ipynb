{
 "cells": [
  {
   "cell_type": "code",
   "execution_count": null,
   "metadata": {},
   "outputs": [],
   "source": [
    "import pandas as pd\n",
    "import math"
   ]
  },
  {
   "cell_type": "code",
   "execution_count": null,
   "metadata": {},
   "outputs": [],
   "source": [
    "df = pd.read_excel(r\"RAW DATA FILE.xlsx\")"
   ]
  },
  {
   "cell_type": "code",
   "execution_count": null,
   "metadata": {},
   "outputs": [],
   "source": [
    "rowcount = sum(1 for row in df[\"Visit ID\"])\n",
    "print(rowcount)"
   ]
  },
  {
   "cell_type": "code",
   "execution_count": null,
   "metadata": {},
   "outputs": [],
   "source": [
    "# atos = []\n",
    "# rcm = []\n",
    "# sent_to_coll = []\n",
    "# refunded = []\n",
    "collection_outcome = []\n",
    "\n",
    "for i in range(rowcount):\n",
    "    atos_val = df[\"ATOS Pymt\"][i]\n",
    "    rcm_val = df[\"RCM Pymt\"][i]\n",
    "    sent_to_coll_val = df[\"Sent to Coll\"][i]\n",
    "    refunded_val = df[\"Refunded\"][i]\n",
    "    \n",
    "    if (atos_val != 0.0 and math.isnan(atos_val) == False) and (refunded_val != 0.0 and math.isnan(refunded_val) == False):\n",
    "        collection_outcome.append(\"Collected ATOS and Refunded\")\n",
    "    elif (atos_val != 0.0 and math.isnan(atos_val) == False) and (rcm_val == 0.0 or math.isnan(rcm_val) == True) and (sent_to_coll_val == 0.0 or math.isnan(sent_to_coll_val) == True) and (refunded_val == 0.0 or math.isnan(refunded_val) == True):\n",
    "        collection_outcome.append(\"Accurately Collected ATOS\")\n",
    "    elif (atos_val != 0.0 and math.isnan(atos_val) == False) and (rcm_val == 0.0 or math.isnan(rcm_val) == True) and (sent_to_coll_val != 0.0 or math.isnan(sent_to_coll_val) == False):\n",
    "        collection_outcome.append(\"Collected ATOS but RCM billed Pt Resp\")\n",
    "    elif (atos_val != 0.0 and math.isnan(atos_val) == False) and (rcm_val != 0.0 or math.isnan(rcm_val) == False) and (sent_to_coll_val == 0.0 or math.isnan(sent_to_coll_val) == True):\n",
    "        collection_outcome.append(\"Collected ATOS but RCM billed Pt Resp\")\n",
    "    elif (atos_val != 0.0 and math.isnan(atos_val) == False) and (rcm_val != 0.0 or math.isnan(rcm_val) == False) and (sent_to_coll_val != 0.0 or math.isnan(sent_to_coll_val) == False):\n",
    "        collection_outcome.append(\"Collected ATOS but RCM billed Pt Resp\")\n",
    "    elif (atos_val == 0.0 or math.isnan(atos_val) == True) and (rcm_val == 0.0 or math.isnan(rcm_val) == True) and (sent_to_coll_val == 0.0 or math.isnan(sent_to_coll_val) == True) and (refunded_val == 0.0 or math.isnan(refunded_val) == True):\n",
    "        collection_outcome.append(\"No Collection ATOS Correctly\")\n",
    "    elif (atos_val == 0.0 or math.isnan(atos_val) == True) and (rcm_val != 0.0 or math.isnan(rcm_val) == False) and (sent_to_coll_val == 0.0 or math.isnan(sent_to_coll_val) == True):\n",
    "        collection_outcome.append(\"No Collection ATOS RCM billed Pt Resp\")\n",
    "    elif (atos_val == 0.0 or math.isnan(atos_val) == True) and (rcm_val == 0.0 or math.isnan(rcm_val) == True) and (sent_to_coll_val != 0.0 or math.isnan(sent_to_coll_val) == False):\n",
    "        collection_outcome.append(\"No Collection ATOS RCM billed Pt Resp\")\n",
    "    elif (atos_val == 0.0 or math.isnan(atos_val) == True) and (rcm_val != 0.0 or math.isnan(rcm_val) == False) and (sent_to_coll_val != 0.0 or math.isnan(sent_to_coll_val) == False):\n",
    "        collection_outcome.append(\"No Collection ATOS RCM billed Pt Resp\")\n",
    "    else:\n",
    "        collection_outcome.append(\" \")"
   ]
  },
  {
   "cell_type": "code",
   "execution_count": null,
   "metadata": {},
   "outputs": [],
   "source": [
    "print(len(collection_outcome))"
   ]
  },
  {
   "cell_type": "code",
   "execution_count": null,
   "metadata": {},
   "outputs": [],
   "source": [
    "writer = pd.ExcelWriter(r\"OUTPUT FILE.xlsx\", engine = 'xlsxwriter')\n",
    "df0 = pd.DataFrame(list(zip(collection_outcome)), columns =['Collection Outcome'])\n",
    "df0.to_excel(writer,index = False)\n",
    "\n",
    "writer.save()\n",
    "writer.close()"
   ]
  }
 ],
 "metadata": {
  "kernelspec": {
   "display_name": "Python 3",
   "language": "python",
   "name": "python3"
  },
  "language_info": {
   "codemirror_mode": {
    "name": "ipython",
    "version": 3
   },
   "file_extension": ".py",
   "mimetype": "text/x-python",
   "name": "python",
   "nbconvert_exporter": "python",
   "pygments_lexer": "ipython3",
   "version": "3.7.4"
  }
 },
 "nbformat": 4,
 "nbformat_minor": 2
}
