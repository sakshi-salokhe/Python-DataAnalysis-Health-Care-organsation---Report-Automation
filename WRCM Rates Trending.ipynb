{
 "cells": [
  {
   "cell_type": "code",
   "execution_count": null,
   "metadata": {},
   "outputs": [],
   "source": [
    "import pandas as pd\n",
    "import math"
   ]
  },
  {
   "cell_type": "code",
   "execution_count": null,
   "metadata": {},
   "outputs": [],
   "source": [
    "path_data = pd.ExcelFile(r\"RAW DATA FILE.xlsx\")\n",
    "df_data = pd.read_excel(path_data, 'TAB NAME 1')\n",
    "df_data_coding_levels = pd.read_excel(path_data, 'TAB NAME 2')\n",
    "\n",
    "path_main = pd.ExcelFile(r\"OUTPUT TEMPLATE FILE.xlsx\")\n",
    "df_main = pd.read_excel(path_main, 'CURRENT MONTH TAB NAME')"
   ]
  },
  {
   "cell_type": "code",
   "execution_count": null,
   "metadata": {},
   "outputs": [],
   "source": [
    "path_op = r\"CURRENT MONTH OUTPUT DATA COLUMNS.xlsx\"\n",
    "writer = pd.ExcelWriter(path_op, engine = 'xlsxwriter')"
   ]
  },
  {
   "cell_type": "code",
   "execution_count": null,
   "metadata": {},
   "outputs": [],
   "source": [
    "# print(len(df_main.columns))\n",
    "cols = len(df_main.columns)\n",
    "new_row = []\n",
    "alpha = 'Row'\n",
    "for i in range(cols):\n",
    "    colname = \"row\" + str(i+1)\n",
    "    new_row.append(colname)\n",
    "df_main.columns = new_row\n",
    "\n",
    "df_main.columns = [\"A\",\"B\",\"C\",\"D\",\"E\",\"F\",\"G\",\"H\",\"I\",\"J\",\"K\",\"L\",\"M\",\"N\",\"O\",\"P\",\"Q\",\"R\",\"S\",\"T\",\"U\",\"V\",\"W\",\"X\",\"Y\",\"Z\",\"AA\",\"AB\",\"AC\",\"AD\",\"AE\"]\n",
    "# print(df_main.columns)"
   ]
  },
  {
   "cell_type": "code",
   "execution_count": null,
   "metadata": {},
   "outputs": [],
   "source": [
    "cols = len(df_data_coding_levels.columns)\n",
    "new_row = []\n",
    "alpha = 'Row'\n",
    "for i in range(cols):\n",
    "    colname = \"row\" + str(i+1)\n",
    "    new_row.append(colname)\n",
    "df_data_coding_levels.columns = new_row\n",
    "\n",
    "#might have to add column names based on which month\n",
    "#H column for Jan 2020\n",
    "df_data_coding_levels.columns = [\"A\",\"B\",\"C\",\"D\",\"E\",\"F\",\"G\",\"H\",\"I\",\"J\",\"K\",\"L\",\"M\",\"N\",\"O\",\"P\",\"Q\"] #,\"R\",\"S\",\"T\",\"U\",\"V\",\"W\",\"X\",\"Y\",\"Z\",\"AA\"]"
   ]
  },
  {
   "cell_type": "code",
   "execution_count": null,
   "metadata": {},
   "outputs": [],
   "source": [
    "new_row = []\n",
    "alpha = 'A'\n",
    "for i in range(len(df_data.columns)):\n",
    "    new_row.append(alpha)\n",
    "    alpha = chr(ord(alpha) + 1)\n",
    "df_data.columns = new_row\n",
    "\n",
    "#df_data - column D for Jan 2020"
   ]
  },
  {
   "cell_type": "code",
   "execution_count": null,
   "metadata": {},
   "outputs": [],
   "source": [
    "#choose data from previous month\n",
    "#start from 5 till 16\n",
    "\n",
    "#our focus here column name letter is the month we are doing\n",
    "values_percent = []\n",
    "\n",
    "if type(df_data_coding_levels[\"J\"][10]) == str:\n",
    "    df_data_coding_levels[\"J\"][10] = 0\n",
    "if type(df_data_coding_levels[\"J\"][16]) == str:\n",
    "    df_data_coding_levels[\"J\"][16] = 0\n",
    "\n",
    "if type(df_data_coding_levels[\"J\"][10] + df_data_coding_levels[\"J\"][16]) == str:\n",
    "    denominator = 1\n",
    "else:\n",
    "    denominator = df_data_coding_levels[\"J\"][10] + df_data_coding_levels[\"J\"][16]\n",
    "\n",
    "for i in range(5,17):\n",
    "    if type(df_data_coding_levels[\"J\"][i]) == str:\n",
    "        numerator = 0\n",
    "    else:\n",
    "        numerator = df_data_coding_levels[\"J\"][i]\n",
    "    \n",
    "    val = round((numerator * 100) / denominator)\n",
    "    values_percent.append(val)\n",
    "\n",
    "\n",
    "# ele1 = values_percent[5]\n",
    "# values_percent.remove(ele1)\n",
    "\n",
    "# ele2 = values_percent[-1]\n",
    "# values_percent.remove(ele2)\n",
    "\n",
    "\n",
    "print(values_percent)\n",
    "print(len(values_percent))"
   ]
  },
  {
   "cell_type": "code",
   "execution_count": null,
   "metadata": {},
   "outputs": [],
   "source": [
    "payer_name_data = []\n",
    "for i in range(5,30):\n",
    "    payer_name_data.append(df_data[\"A\"][i].lower())\n",
    "print(payer_name_data)\n",
    "print(len(payer_name_data))\n",
    "\n",
    "\n",
    "oct_visit_counts = []\n",
    "for i in range(5,30):\n",
    "    oct_visit_counts.append(df_data[\"E\"][i])\n",
    "print(oct_visit_counts)\n",
    "print(len(oct_visit_counts))"
   ]
  },
  {
   "cell_type": "code",
   "execution_count": null,
   "metadata": {},
   "outputs": [],
   "source": [
    "main_B = []\n",
    "for i in range(5,30):\n",
    "    payer_name = df_main[\"A\"][i]\n",
    "    print(payer_name)\n",
    "    if payer_name.lower() in payer_name_data:\n",
    "        idx = payer_name_data.index(payer_name.lower())\n",
    "        val = oct_visit_counts[idx]\n",
    "        main_B.append(val)\n",
    "\n",
    "total = sum(main_B)\n",
    "main_B.append(total)\n",
    "\n",
    "data_total = df_data[\"E\"][30]\n",
    "main_B.append(data_total)\n",
    "\n",
    "coverage = round((total / data_total) * 100)\n",
    "main_B.append(coverage)\n",
    "print(main_B)\n",
    "print(len(main_B))"
   ]
  },
  {
   "cell_type": "code",
   "execution_count": null,
   "metadata": {},
   "outputs": [],
   "source": [
    "main_C = []\n",
    "for i in range(0,len(main_B)-2):\n",
    "    val = (main_B[i] / total)\n",
    "    main_C.append(val)\n",
    "print(main_C)\n",
    "print(len(main_C))"
   ]
  },
  {
   "cell_type": "code",
   "execution_count": null,
   "metadata": {},
   "outputs": [],
   "source": [
    "main_O = []\n",
    "for i in range(5,32):\n",
    "    val = (df_main[\"E\"][i] * values_percent[6]) + (df_main[\"F\"][i] * values_percent[7]) + (df_main[\"G\"][i] * values_percent[8]) + (df_main[\"H\"][i] * values_percent[9]) + (df_main[\"I\"][i] * values_percent[10]) + (df_main[\"J\"][i] * values_percent[0]) + (df_main[\"K\"][i] * values_percent[1]) + (df_main[\"L\"][i] * values_percent[2]) + (df_main[\"M\"][i] * values_percent[3]) + (df_main[\"N\"][i] * values_percent[4])\n",
    "    val = val / 100\n",
    "    val1 = str(round(val, 2))\n",
    "    val = float(val1)\n",
    "    main_O.append(val)\n",
    "print(main_O)\n",
    "print(len(main_O))\n",
    "# avg_o = sum(main_O) / len(main_O)\n",
    "# main_O.append(avg_o)\n",
    "# print(main_O)"
   ]
  },
  {
   "cell_type": "code",
   "execution_count": null,
   "metadata": {},
   "outputs": [],
   "source": [
    "main_S = []\n",
    "for i in range(5,30):\n",
    "    qval = (df_main[\"Q\"][i] * df_main[\"Q\"][3])\n",
    "    rval = (df_main[\"R\"][i] * df_main[\"R\"][3])\n",
    "    if math.isnan(qval):\n",
    "        qval = 0\n",
    "    if math.isnan(rval):\n",
    "        rval = 0\n",
    "    val = qval + rval\n",
    "    val1 = str(round(val, 2))\n",
    "    val = float(val1)\n",
    "    main_S.append(val)\n",
    "tot = sum(main_S)\n",
    "avg_s = tot/len(main_S)\n",
    "main_S.append(round(avg_s))\n",
    "\n",
    "main_S.append(0)\n",
    "print(main_S)\n",
    "print(len(main_S))"
   ]
  },
  {
   "cell_type": "code",
   "execution_count": null,
   "metadata": {},
   "outputs": [],
   "source": [
    "main_V = []\n",
    "for i in range(5,30):\n",
    "    val = (df_main[\"U\"][i] * df_main[\"U\"][3] * main_O[i-5])\n",
    "    main_V.append(val)\n",
    "\n",
    "sum1 = 0\n",
    "for i in main_V:\n",
    "    if math.isnan(i):\n",
    "        i = 0\n",
    "    sum1 += i\n",
    "\n",
    "avg_v = sum1/len(main_V)\n",
    "main_V.append(round(avg_v))\n",
    "\n",
    "main_V.append(0)\n",
    "print(main_V)\n",
    "print(len(main_V))"
   ]
  },
  {
   "cell_type": "code",
   "execution_count": null,
   "metadata": {},
   "outputs": [],
   "source": [
    "main_Y = []\n",
    "for i in range(5,30):\n",
    "    val = df_main[\"X\"][i] * df_main[\"X\"][3]\n",
    "    main_Y.append(val)\n",
    "\n",
    "sum1 = 0\n",
    "for i in main_Y:\n",
    "    if math.isnan(i):\n",
    "        i = 0\n",
    "    sum1 += i\n",
    "\n",
    "avg_y = sum1/len(main_Y)\n",
    "main_Y.append(round(avg_y))\n",
    "\n",
    "main_Y.append(0)\n",
    "print(main_Y)\n",
    "print(len(main_Y))"
   ]
  },
  {
   "cell_type": "code",
   "execution_count": null,
   "metadata": {},
   "outputs": [],
   "source": [
    "main_AA = []\n",
    "for i in range(len(main_S)-2):\n",
    "    if math.isnan(main_O[i]):\n",
    "        main_O[i] = 0\n",
    "    if math.isnan(main_S[i]):\n",
    "        main_S[i] = 0\n",
    "    if math.isnan(main_V[i]):\n",
    "        main_V[i] = 0\n",
    "    if math.isnan(main_Y[i]):\n",
    "        main_Y[i] = 0\n",
    "        \n",
    "    val = (main_O[i] + main_S[i] + main_V[i] + main_Y[i])\n",
    "    main_AA.append(val)\n",
    "\n",
    "avg_aa = sum(main_AA)/len(main_AA)\n",
    "    \n",
    "main_AA.append(round(avg_aa))\n",
    "\n",
    "if math.isnan(main_O[-1]):\n",
    "    main_O[-1] = 0\n",
    "if math.isnan(main_S[-1]):\n",
    "    main_S[-1] = 0\n",
    "if math.isnan(main_V[-1]):\n",
    "    main_V[-1] = 0\n",
    "if math.isnan(main_Y[-1]):\n",
    "    main_Y[-1] = 0\n",
    "lastval = (main_O[-1] + main_S[-1] + main_V[-1] + main_Y[-1])\n",
    "\n",
    "main_AA.append(lastval)\n",
    "\n",
    "print(main_AA)\n",
    "print(len(main_AA))"
   ]
  },
  {
   "cell_type": "code",
   "execution_count": null,
   "metadata": {},
   "outputs": [],
   "source": [
    "main_AC = []\n",
    "for i in range(len(main_AA)-2):\n",
    "    val = main_AA[i] * main_C[i] \n",
    "    main_AC.append(val)\n",
    "\n",
    "sum1 = sum(main_AC)\n",
    "main_AC.append(sum1)\n",
    "\n",
    "lastval = round(100 * (sum1/main_AA[-1]))\n",
    "main_AC.append(lastval)\n",
    "\n",
    "\n",
    "print(main_AC)\n",
    "print(len(main_AC))"
   ]
  },
  {
   "cell_type": "code",
   "execution_count": null,
   "metadata": {},
   "outputs": [],
   "source": [
    "df0 = pd.DataFrame(list(zip(main_B)), columns =['B'])\n",
    "df0.to_excel(writer, sheet_name = \"b\")\n",
    "\n",
    "df1 = pd.DataFrame(list(zip(main_C)), columns =['C'])\n",
    "df1.to_excel(writer, sheet_name = \"c\")\n",
    "\n",
    "df2 = pd.DataFrame(list(zip(main_S, main_V, main_Y, main_AA, main_AC)), columns =['S', 'V', 'Y', 'AA','AC'])\n",
    "df2.to_excel(writer, sheet_name = \"other\")\n",
    "\n",
    "df3 = pd.DataFrame(list(zip(values_percent)), columns =['AE'])\n",
    "df3.to_excel(writer, sheet_name = \"AE\")"
   ]
  },
  {
   "cell_type": "code",
   "execution_count": null,
   "metadata": {},
   "outputs": [],
   "source": [
    "writer.save()\n",
    "writer.close()"
   ]
  },
  {
   "cell_type": "code",
   "execution_count": null,
   "metadata": {},
   "outputs": [],
   "source": []
  }
 ],
 "metadata": {
  "kernelspec": {
   "display_name": "Python 3",
   "language": "python",
   "name": "python3"
  },
  "language_info": {
   "codemirror_mode": {
    "name": "ipython",
    "version": 3
   },
   "file_extension": ".py",
   "mimetype": "text/x-python",
   "name": "python",
   "nbconvert_exporter": "python",
   "pygments_lexer": "ipython3",
   "version": "3.7.4"
  }
 },
 "nbformat": 4,
 "nbformat_minor": 2
}
