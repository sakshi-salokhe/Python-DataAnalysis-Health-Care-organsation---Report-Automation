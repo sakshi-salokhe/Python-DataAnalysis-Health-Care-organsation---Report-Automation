{
 "cells": [
  {
   "cell_type": "code",
   "execution_count": null,
   "metadata": {},
   "outputs": [],
   "source": [
    "import pandas as pd\n",
    "import re"
   ]
  },
  {
   "cell_type": "code",
   "execution_count": null,
   "metadata": {},
   "outputs": [],
   "source": [
    "df_maindata = pd.read_excel(r\"RAW DATA.xlsx\")\n",
    "df_proc_codeandname = pd.read_excel(r\"PROCEDURE CODE DICTIONARY.xlsx\")\n",
    "df_insuranceplan = pd.read_excel(r\"INSURANCE PLAN DICTIONARY.xlsx\")"
   ]
  },
  {
   "cell_type": "code",
   "execution_count": null,
   "metadata": {},
   "outputs": [],
   "source": [
    "rowcount_datamain = sum(1 for row in df_maindata[\"Visit ID\"])\n",
    "rowcount_procedure = sum(1 for row in df_proc_codeandname[\"Procedure Code\"])\n",
    "rowcount_insurance = sum(1 for row in df_insuranceplan[\"Insurance ID\"])"
   ]
  },
  {
   "cell_type": "code",
   "execution_count": null,
   "metadata": {},
   "outputs": [],
   "source": [
    "#data from the main file\n",
    "main_visit_id = []\n",
    "main_payer_plan = []\n",
    "main_pat_name = []\n",
    "main_visit_date = []\n",
    "main_clinic_name = []\n",
    "main_proc_code = []\n",
    "main_total_adj_amount = []\n",
    "main_patid = []\n",
    "\n",
    "\n",
    "for i in range(0,rowcount_datamain):\n",
    "    main_visit_id.append(str(df_maindata[\"Visit ID\"][i]))\n",
    "    \n",
    "    main_payer_plan.append(str(df_maindata[\"Charge Payer Plan\"][i]).lower())\n",
    "    \n",
    "    main_pat_name.append(str(df_maindata[\"Patient Full Name\"][i]).lower())\n",
    "       \n",
    "    main_visit_date.append(str(df_maindata[\"Days in Visit Date\"][i]).lower())   \n",
    "        \n",
    "    main_clinic_name.append(str(df_maindata[\"Clinic Name\"][i]).lower())\n",
    "    \n",
    "    main_proc_code.append(str(df_maindata[\"Procedure Code\"][i]).lower())\n",
    "    \n",
    "    main_total_adj_amount.append(str(df_maindata[\"Total Adjustment Amount\"][i]).lower())\n",
    "    \n",
    "    main_patid.append(df_maindata[\"Patient ID\"][i])"
   ]
  },
  {
   "cell_type": "code",
   "execution_count": null,
   "metadata": {},
   "outputs": [],
   "source": [
    "# print(main_visit_id[0])\n",
    "# print(main_visit_id[-1])\n",
    "\n",
    "# print(main_payer_plan[0])\n",
    "# print(main_payer_plan[-1])\n",
    "\n",
    "# print(main_pat_name[0])\n",
    "# print(main_pat_name[-1])\n",
    "\n",
    "# print(main_visit_date[0])\n",
    "# print(main_visit_date[-1])\n",
    "\n",
    "# print(main_clinic_name[0])\n",
    "# print(main_clinic_name[-1])\n",
    "\n",
    "# print(main_proc_code[0])\n",
    "# print(main_proc_code[-1])\n",
    "\n",
    "# print(total_adj_amount[0])\n",
    "# print(total_adj_amount[-1])"
   ]
  },
  {
   "cell_type": "code",
   "execution_count": null,
   "metadata": {},
   "outputs": [],
   "source": [
    "#insurance data only the one that is required\n",
    "insurance_dict = {}\n",
    "for i in range(0,rowcount_insurance):\n",
    "    insurance_plan = df_insuranceplan[\"Insurance Plan\"][i].lower()\n",
    "    if insurance_plan not in insurance_dict:\n",
    "        address = str(df_insuranceplan[\"Address 1\"][i]).lower()\n",
    "        city = str(df_insuranceplan[\"City\"][i]).lower()\n",
    "        state = str(df_insuranceplan[\"State\"][i]).lower()\n",
    "        zipcode = str(df_insuranceplan[\"Zip\"][i]).lower()\n",
    "        phone = str(df_insuranceplan[\"Phone\"][i]).lower()\n",
    "        \n",
    "        insurance_dict[insurance_plan] = [address, city, state, zipcode, phone]\n",
    "    else:\n",
    "        address = str(df_insuranceplan[\"Address 1\"][i]).lower()\n",
    "        city = str(df_insuranceplan[\"City\"][i]).lower()\n",
    "        state = str(df_insuranceplan[\"State\"][i]).lower()\n",
    "        zipcode = str(df_insuranceplan[\"Zip\"][i]).lower()\n",
    "        phone = str(df_insuranceplan[\"Phone\"][i]).lower()\n",
    "        \n",
    "        val = insurance_dict[insurance_plan]\n",
    "        val = [address, city,state, zipcode, phone]\n",
    "        insurance_dict[insurance_plan] = val"
   ]
  },
  {
   "cell_type": "code",
   "execution_count": null,
   "metadata": {},
   "outputs": [],
   "source": [
    "# print(insurance_dict)"
   ]
  },
  {
   "cell_type": "code",
   "execution_count": null,
   "metadata": {},
   "outputs": [],
   "source": [
    "#procedure code and names\n",
    "proc_dict = {}\n",
    "\n",
    "for i in range(0,rowcount_procedure):\n",
    "    code1 = df_proc_codeandname[\"Procedure Code\"][i]\n",
    "    if type(code1) == str:\n",
    "        code = code1.lower()\n",
    "    else:\n",
    "        code = code1\n",
    "    \n",
    "    if code not in proc_dict:\n",
    "        name = df_proc_codeandname[\"Procedure Name\"][i].lower()\n",
    "        proc_dict[code] = [name]\n",
    "    else:\n",
    "        name = df_proc_codeandname[\"Procedure Name\"][i].lower()\n",
    "        proc_dict[code].append(name)\n"
   ]
  },
  {
   "cell_type": "code",
   "execution_count": null,
   "metadata": {},
   "outputs": [],
   "source": [
    "# print(proc_dict)"
   ]
  },
  {
   "cell_type": "code",
   "execution_count": null,
   "metadata": {},
   "outputs": [],
   "source": [
    "frp_emp_name = []\n",
    "frp_address = []\n",
    "frp_city = []\n",
    "frp_st = []\n",
    "frp_zip = []\n",
    "frp_phone = []\n",
    "\n",
    "\n",
    "proc_desc = []\n",
    "\n",
    "for i in range(0,rowcount_datamain):\n",
    "    main_payer_plan_name = main_payer_plan[i]\n",
    "    \n",
    "    if main_payer_plan_name in insurance_dict:\n",
    "        values = insurance_dict[main_payer_plan_name]\n",
    "        \n",
    "        frp_emp_name.append(main_payer_plan_name)\n",
    "        frp_address.append(values[0])\n",
    "        frp_city.append(values[1])\n",
    "        frp_st.append(values[2].upper())\n",
    "        frp_zip.append(values[3])\n",
    "        frp_phone.append(values[4])\n",
    "    else:\n",
    "        values = [\" \",\" \",\" \",\" \",\" \"]\n",
    "        \n",
    "        frp_emp_name.append(main_payer_plan_name)\n",
    "        frp_address.append(values[0])\n",
    "        frp_city.append(values[1])\n",
    "        frp_st.append(values[2].upper())\n",
    "        frp_zip.append(values[3])\n",
    "        frp_phone.append(values[4])\n",
    "        \n",
    "        \n",
    "    proc_code1 = main_proc_code[i]\n",
    "    ans = bool(proc_code1.isdigit())\n",
    "    if ans == False:\n",
    "        proc_code = proc_code1\n",
    "    else:\n",
    "        proc_code = int(proc_code1)\n",
    "    if proc_code in proc_dict:\n",
    "        value1 = proc_dict[proc_code]\n",
    "        if len(value1) > 1:\n",
    "            val = value1[-1]\n",
    "        else:\n",
    "            val = value1[0]\n",
    "    else:\n",
    "        val = \" \"\n",
    "    proc_desc.append(val)"
   ]
  },
  {
   "cell_type": "code",
   "execution_count": null,
   "metadata": {},
   "outputs": [],
   "source": [
    "df1 = pd.DataFrame(list(zip(main_visit_id, frp_emp_name,frp_address, frp_city, frp_st, frp_zip, frp_phone, main_pat_name, main_patid, main_visit_date, main_clinic_name, main_proc_code, proc_desc, main_total_adj_amount)), columns =[\"Visit ID\", \"FRP - Employer Name\", \"FRP Address 1\", \"FRP City\", \"FRP St\", \"FRP Zip\", \"FRP Phone\", \"Patient Full Name\", \"Patient ID\", \"Visit Date\", \"Location\", \"Procedure Code\", \"Procedure Description\", \"Total Adjustment Amount\"])\n",
    "df1.to_excel(r\"OUTPUT FILE.xlsx\")"
   ]
  },
  {
   "cell_type": "code",
   "execution_count": null,
   "metadata": {},
   "outputs": [],
   "source": []
  }
 ],
 "metadata": {
  "kernelspec": {
   "display_name": "Python 3",
   "language": "python",
   "name": "python3"
  },
  "language_info": {
   "codemirror_mode": {
    "name": "ipython",
    "version": 3
   },
   "file_extension": ".py",
   "mimetype": "text/x-python",
   "name": "python",
   "nbconvert_exporter": "python",
   "pygments_lexer": "ipython3",
   "version": "3.7.4"
  }
 },
 "nbformat": 4,
 "nbformat_minor": 2
}
