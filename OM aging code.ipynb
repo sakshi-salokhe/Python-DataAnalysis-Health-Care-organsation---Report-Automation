{
 "cells": [
  {
   "cell_type": "code",
   "execution_count": null,
   "metadata": {},
   "outputs": [],
   "source": [
    "import pandas as pd"
   ]
  },
  {
   "cell_type": "code",
   "execution_count": null,
   "metadata": {},
   "outputs": [],
   "source": [
    "eom = pd.read_csv(r\"OUTPUT FILE FROM FEE CORRECTIONS.csv\")\n",
    "\n",
    "inv_range = pd.read_csv(r\"INVOICE RANGE DATABASE FILE.csv\")"
   ]
  },
  {
   "cell_type": "code",
   "execution_count": null,
   "metadata": {},
   "outputs": [],
   "source": [
    "eom_rc = sum(1 for row in eom['Employer Name'])\n",
    "\n",
    "inv_range_rc = sum(1 for row in inv_range['Range Name'])\n",
    "\n",
    "print(\"eom_rc: \",eom_rc)\n",
    "print(\"inv_range_rc: \",inv_range_rc)"
   ]
  },
  {
   "cell_type": "code",
   "execution_count": null,
   "metadata": {},
   "outputs": [],
   "source": [
    "current = {}\n",
    "age30_59 = {}\n",
    "age60_89 = {}\n",
    "age_90_119 = {}\n",
    "age_120 = {}\n",
    "\n",
    "for i in range(inv_range_rc):\n",
    "    range_name = str(inv_range['Range Name'][i])\n",
    "    print(range_name.lower())\n",
    "    if range_name.lower() == \"current\":\n",
    "        current['start'] = inv_range['Start '][i]\n",
    "        current['end'] = inv_range['End'][i]\n",
    "    elif range_name.lower() == \"30-59\":\n",
    "        age30_59['start'] = inv_range['Start '][i]\n",
    "        age30_59['end'] = inv_range['End'][i]\n",
    "    elif range_name.lower() == \"60-89\":\n",
    "        age60_89['start'] = inv_range['Start '][i]\n",
    "        age60_89['end'] = inv_range['End'][i]\n",
    "    elif range_name.lower() == \"90-119\":\n",
    "        age_90_119['start'] = inv_range['Start '][i]\n",
    "        age_90_119['end'] = inv_range['End'][i]\n",
    "    elif range_name.lower() == \"120+\":\n",
    "        age_120['start'] = inv_range['Start '][i]\n",
    "        age_120['end'] = inv_range['End'][i]\n",
    "\n",
    "print(\"current = \", current)\n",
    "print(\"age30_59 = \", age30_59)\n",
    "print(\"age60_89 = \", age60_89)\n",
    "print(\"age_90_119 = \", age_90_119)\n",
    "print(\"age_120 = \", age_120)"
   ]
  },
  {
   "cell_type": "code",
   "execution_count": null,
   "metadata": {},
   "outputs": [],
   "source": [
    "age = []\n",
    "\n",
    "for i in range(eom_rc):\n",
    "    eom_invoice1 = eom['Invoice #'][i]\n",
    "    \n",
    "    if(\",\" in str(eom_invoice1)):\n",
    "        inv = eom_invoice1.split(\",\")\n",
    "        eom_invoice2 = ''.join(inv)\n",
    "        eom_invoice = int(eom_invoice2)\n",
    "    else:\n",
    "        eom_invoice = eom['Invoice #'][i]\n",
    "    print(eom_invoice)\n",
    "    if eom_invoice in range(age_120['start'], age_120['end']):\n",
    "        age.append(\"120+\")\n",
    "    elif eom_invoice in range(age_90_119['start'], age_90_119['end']):\n",
    "        age.append(\"90_119\")\n",
    "    elif eom_invoice in range(age60_89['start'], age60_89['end']):\n",
    "        age.append(\"60_89\")\n",
    "    elif eom_invoice in range(age30_59['start'], age30_59['end']):\n",
    "        age.append(\"30_59\")\n",
    "    elif eom_invoice in range(current['start'], current['end']):\n",
    "        age.append(\"current\")\n",
    "    else:\n",
    "        age.append(\" \")\n",
    "print(\"age = \",age)"
   ]
  },
  {
   "cell_type": "code",
   "execution_count": null,
   "metadata": {},
   "outputs": [],
   "source": [
    "eom['Aging'] = age\n",
    "eom.to_csv(r\"OUTPUT FILE.csv\")"
   ]
  },
  {
   "cell_type": "code",
   "execution_count": null,
   "metadata": {},
   "outputs": [],
   "source": []
  }
 ],
 "metadata": {
  "kernelspec": {
   "display_name": "Python 3",
   "language": "python",
   "name": "python3"
  },
  "language_info": {
   "codemirror_mode": {
    "name": "ipython",
    "version": 3
   },
   "file_extension": ".py",
   "mimetype": "text/x-python",
   "name": "python",
   "nbconvert_exporter": "python",
   "pygments_lexer": "ipython3",
   "version": "3.7.4"
  }
 },
 "nbformat": 4,
 "nbformat_minor": 2
}
