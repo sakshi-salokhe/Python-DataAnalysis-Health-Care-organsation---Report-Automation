{
 "cells": [
  {
   "cell_type": "code",
   "execution_count": null,
   "metadata": {},
   "outputs": [],
   "source": [
    "import pandas as pd"
   ]
  },
  {
   "cell_type": "code",
   "execution_count": null,
   "metadata": {},
   "outputs": [],
   "source": [
    "# xls = pd.ExcelFile(r\"C:\\Users\\w501738\\Desktop\\Python\\OM unbilled\\OM Unbilled 111119.xlsx\")\n",
    "# df = pd.read_excel(xls, 'sheet1')\n",
    "df = pd.read_csv(r\"OM FILE RAW.csv\")"
   ]
  },
  {
   "cell_type": "code",
   "execution_count": null,
   "metadata": {},
   "outputs": [],
   "source": [
    "row_count = sum(1 for row in df[\"Visit ID\"])"
   ]
  },
  {
   "cell_type": "code",
   "execution_count": null,
   "metadata": {},
   "outputs": [],
   "source": [
    "ID_sum = {}\n",
    "ID_invoice = {}\n",
    "for i in range(row_count):\n",
    "    vid = df[\"Visit ID\"][i]\n",
    "    total = df[\"Charge Amount\"][i] + df[\"Payment Amount\"][i] + df[\"Adjustment Amount\"][i] + df[\"Reversal Amount\"][i]\n",
    "    if vid not in ID_sum:\n",
    "        ID_sum[vid] = total\n",
    "    else:\n",
    "        ID_sum[vid] += total\n",
    "        \n",
    "    invoice = df[\"Invoice Number\"][i]\n",
    "    if vid not in ID_invoice:\n",
    "        ID_invoice[vid] = invoice\n",
    "    elif vid in ID_invoice and invoice > 0:\n",
    "        ID_invoice[vid] = invoice\n",
    "    elif vid in ID_invoice and invoice <= 0:\n",
    "        if ID_invoice[vid] > 0:\n",
    "            continue\n",
    "        else:\n",
    "            ID_invoice[vid] = invoice       "
   ]
  },
  {
   "cell_type": "code",
   "execution_count": null,
   "metadata": {},
   "outputs": [],
   "source": [
    "true_sum = []\n",
    "invoiced = []\n",
    "\n",
    "for i in range(row_count):\n",
    "    vid = df[\"Visit ID\"][i]\n",
    "    if vid in ID_sum:\n",
    "        val = ID_sum[vid]\n",
    "        true_sum.append(val)\n",
    "    \n",
    "    if vid in ID_invoice:\n",
    "        val1 = ID_invoice[vid]\n",
    "        if val1 > 0:\n",
    "            invoiced.append(\"Y\")\n",
    "        else:\n",
    "            invoiced.append(\"N\")"
   ]
  },
  {
   "cell_type": "code",
   "execution_count": null,
   "metadata": {},
   "outputs": [],
   "source": [
    "writer = pd.ExcelWriter(r\"OUTPUT FILE.xlsx\", engine = 'xlsxwriter')\n",
    "\n",
    "df0 = pd.DataFrame(list(zip(true_sum,invoiced)), columns =['True Sum','Invoiced'])\n",
    "df0.to_excel(writer, index = False)"
   ]
  },
  {
   "cell_type": "code",
   "execution_count": null,
   "metadata": {},
   "outputs": [],
   "source": [
    "writer.save()\n",
    "writer.close()"
   ]
  },
  {
   "cell_type": "code",
   "execution_count": null,
   "metadata": {},
   "outputs": [],
   "source": []
  }
 ],
 "metadata": {
  "kernelspec": {
   "display_name": "Python 3",
   "language": "python",
   "name": "python3"
  },
  "language_info": {
   "codemirror_mode": {
    "name": "ipython",
    "version": 3
   },
   "file_extension": ".py",
   "mimetype": "text/x-python",
   "name": "python",
   "nbconvert_exporter": "python",
   "pygments_lexer": "ipython3",
   "version": "3.7.4"
  }
 },
 "nbformat": 4,
 "nbformat_minor": 2
}
