{
 "cells": [
  {
   "cell_type": "code",
   "execution_count": null,
   "metadata": {},
   "outputs": [],
   "source": [
    "import pandas as pd\n",
    "import math\n",
    "from statistics import mean\n",
    "import numpy as np"
   ]
  },
  {
   "cell_type": "code",
   "execution_count": null,
   "metadata": {},
   "outputs": [],
   "source": [
    "df_raw = pd.read_excel(r\"RAW DATA FILE.xlsx\")"
   ]
  },
  {
   "cell_type": "code",
   "execution_count": null,
   "metadata": {},
   "outputs": [],
   "source": [
    "rowcount_raw = sum(1 for row in df_raw[\"A\"])\n",
    "# print(rowcount_raw)"
   ]
  },
  {
   "cell_type": "code",
   "execution_count": null,
   "metadata": {},
   "outputs": [],
   "source": [
    "# print(df_raw[\"A\"][0]) #Provider\n",
    "# print(df_raw[\"A\"][1]) #start here\n",
    "# print(df_raw[\"A\"][1016]) #Grand Total\n",
    "# print(df_raw[\"A\"][1015]) #last is here"
   ]
  },
  {
   "cell_type": "code",
   "execution_count": null,
   "metadata": {},
   "outputs": [],
   "source": [
    "validation_l4_l5 = {}\n",
    "for i in range(1,rowcount_raw-2):\n",
    "    pname = df_raw[\"A\"][i].lower() \n",
    "    if pname not in validation_l4_l5:\n",
    "        validation_l4_l5[pname] = [df_raw[\"B\"][i]]\n",
    "    else:\n",
    "        validation_l4_l5[pname].append(df_raw[\"B\"][i])\n",
    "    "
   ]
  },
  {
   "cell_type": "code",
   "execution_count": null,
   "metadata": {},
   "outputs": [],
   "source": [
    "# print(validation_l4_l5)"
   ]
  },
  {
   "cell_type": "code",
   "execution_count": null,
   "metadata": {},
   "outputs": [],
   "source": [
    "no_l4 = []\n",
    "no_l5 = []\n",
    "no_nvc = []\n",
    "no_pro = []\n",
    "for k,v in validation_l4_l5.items():\n",
    "    if \"Level 4\" not in v:\n",
    "        no_l4.append(k)\n",
    "    if \"Level 5\" not in v:\n",
    "        no_l5.append(k)\n",
    "    if \"No Visit Code\" not in v:\n",
    "        no_nvc.append(k)\n",
    "    if k not in v:\n",
    "        no_pro.append(k)"
   ]
  },
  {
   "cell_type": "code",
   "execution_count": null,
   "metadata": {},
   "outputs": [],
   "source": [
    "feb = []"
   ]
  },
  {
   "cell_type": "code",
   "execution_count": null,
   "metadata": {},
   "outputs": [],
   "source": [
    "feb2020 = df_raw[\"2020 feb\"].tolist()"
   ]
  },
  {
   "cell_type": "code",
   "execution_count": null,
   "metadata": {},
   "outputs": [],
   "source": [
    "def conversion(num):\n",
    "    if num == \"-\":\n",
    "        num = 0\n",
    "    return num"
   ]
  },
  {
   "cell_type": "code",
   "execution_count": null,
   "metadata": {},
   "outputs": [],
   "source": [
    "febl4 = []\n",
    "febl5 = []\n",
    "febnvc = []\n",
    "febp = []"
   ]
  },
  {
   "cell_type": "code",
   "execution_count": null,
   "metadata": {},
   "outputs": [],
   "source": [
    "provider = []\n",
    "c= 0\n",
    "for i in range(1,rowcount_raw):\n",
    "    pname = df_raw[\"A\"][i].lower()\n",
    "    if pname not in provider:\n",
    "        provider.append(pname)\n",
    "    \n",
    "    if pname in no_l4:\n",
    "        febl4.append(0)\n",
    "        no_l4.remove(pname)\n",
    "    \n",
    "    if pname in no_l5:\n",
    "        febl5.append(0)\n",
    "        no_l5.remove(pname)\n",
    "        \n",
    "    if pname in no_nvc:\n",
    "        febnvc.append(0)\n",
    "        no_nvc.remove(pname)\n",
    "        \n",
    "#     if pname in no_pro:\n",
    "#         novp.append(0)\n",
    "#         no_pro.remove(pname)\n",
    "    \n",
    "    if \"level 4\" in str(df_raw[\"B\"][i]).lower():\n",
    "        febl4.append(conversion(df_raw[\"2020 feb\"][i]))\n",
    "\n",
    "    if \"level 5\" in str(df_raw[\"B\"][i]).lower():\n",
    "        febl5.append(conversion(df_raw[\"2020 feb\"][i]))\n",
    "\n",
    "    if \"no visit code\" in str(df_raw[\"B\"][i]).lower():\n",
    "        febnvc.append(conversion(df_raw[\"2020 feb\"][i]))\n",
    "\n",
    "    if str(df_raw[\"B\"][i]).lower() == pname:\n",
    "        febp.append(conversion(df_raw[\"2020 feb\"][i]))\n"
   ]
  },
  {
   "cell_type": "code",
   "execution_count": null,
   "metadata": {},
   "outputs": [],
   "source": [
    "print(len(febp))\n",
    "print(len(febl4))\n",
    "print(len(febl5))\n",
    "print(len(febnvc))\n",
    "print(len(provider))"
   ]
  },
  {
   "cell_type": "code",
   "execution_count": null,
   "metadata": {},
   "outputs": [],
   "source": [
    "print(febl4)"
   ]
  },
  {
   "cell_type": "code",
   "execution_count": null,
   "metadata": {},
   "outputs": [],
   "source": [
    "del provider[-1]\n",
    "print(provider[-1])\n",
    "print(len(provider))"
   ]
  },
  {
   "cell_type": "code",
   "execution_count": null,
   "metadata": {},
   "outputs": [],
   "source": [
    "FEBnr = []"
   ]
  },
  {
   "cell_type": "code",
   "execution_count": null,
   "metadata": {},
   "outputs": [],
   "source": [
    "FEB = []\n",
    "\n",
    "for i in range(len(provider)):\n",
    "    feb_n = febl4[i] + febl5[i]\n",
    "    feb_d = febp[i] - febnvc[i]\n",
    "    if feb_d == 0:\n",
    "        FEB.append(\"-\")\n",
    "        FEBnr.append(\"-\")\n",
    "    else:\n",
    "        FEB.append(round(feb_n/feb_d))\n",
    "        FEBnr.append(feb_n/feb_d)"
   ]
  },
  {
   "cell_type": "code",
   "execution_count": null,
   "metadata": {},
   "outputs": [],
   "source": [
    "print(FEB)"
   ]
  },
  {
   "cell_type": "code",
   "execution_count": null,
   "metadata": {},
   "outputs": [],
   "source": [
    "print(FEBnr)"
   ]
  },
  {
   "cell_type": "code",
   "execution_count": null,
   "metadata": {},
   "outputs": [],
   "source": [
    "provider.append(\"Grand Total\")"
   ]
  },
  {
   "cell_type": "code",
   "execution_count": null,
   "metadata": {},
   "outputs": [],
   "source": [
    "FEB.append(round(((sum(febl4) + sum(febl5)) / (sum(febp) - sum(febnvc))) * 100))"
   ]
  },
  {
   "cell_type": "code",
   "execution_count": null,
   "metadata": {},
   "outputs": [],
   "source": [
    "print(FEBnr)"
   ]
  },
  {
   "cell_type": "code",
   "execution_count": null,
   "metadata": {},
   "outputs": [],
   "source": [
    "ytd = []"
   ]
  },
  {
   "cell_type": "code",
   "execution_count": null,
   "metadata": {},
   "outputs": [],
   "source": [
    "subtotal = []\n",
    "\n",
    "for i in range(len(provider)):\n",
    "    temp = []\n",
    "    \n",
    "    if FEB[i] != \"-\":\n",
    "        temp.append(FEB[i])\n"
   ]
  },
  {
   "cell_type": "code",
   "execution_count": null,
   "metadata": {},
   "outputs": [],
   "source": [
    "writer = pd.ExcelWriter(r\"OUTPUT FILE.xlsx\", engine = 'xlsxwriter')\n",
    "df0 = pd.DataFrame(list(zip(provider, FEBnr)), columns =['Provider', 'FEB 2020'])\n",
    "# df0 = pd.DataFrame(list(zip(provider, JAN, FEB, Mar, APR, MAY, JUN, JUL, AUG, SEP, OCT, NOV, DEC)), columns =['Jan 2019','Feb 2019', 'Mar 2019' , 'Apr 2019', 'May 2019', 'Jun 2019', 'Jul 2019', 'Aug 2019', 'Sep 2019', 'Oct 2019', 'Nov 2019', 'Dec 2019'])\n",
    "df0.to_excel(writer, sheet_name = \"Table1\", index = False)\n"
   ]
  },
  {
   "cell_type": "code",
   "execution_count": null,
   "metadata": {},
   "outputs": [],
   "source": [
    "writer.save()\n",
    "writer.close()"
   ]
  },
  {
   "cell_type": "code",
   "execution_count": null,
   "metadata": {},
   "outputs": [],
   "source": []
  }
 ],
 "metadata": {
  "kernelspec": {
   "display_name": "Python 3",
   "language": "python",
   "name": "python3"
  },
  "language_info": {
   "codemirror_mode": {
    "name": "ipython",
    "version": 3
   },
   "file_extension": ".py",
   "mimetype": "text/x-python",
   "name": "python",
   "nbconvert_exporter": "python",
   "pygments_lexer": "ipython3",
   "version": "3.7.4"
  }
 },
 "nbformat": 4,
 "nbformat_minor": 2
}
