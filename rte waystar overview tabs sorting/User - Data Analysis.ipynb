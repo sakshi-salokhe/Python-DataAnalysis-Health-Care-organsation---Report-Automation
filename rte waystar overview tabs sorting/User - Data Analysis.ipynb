{
 "cells": [
  {
   "cell_type": "code",
   "execution_count": null,
   "metadata": {},
   "outputs": [],
   "source": [
    "import pandas as pd\n",
    "import math"
   ]
  },
  {
   "cell_type": "code",
   "execution_count": null,
   "metadata": {},
   "outputs": [],
   "source": [
    "raw = pd.read_excel(r\"RAW DATA.xlsx\")\n",
    "db = pd.read_excel(r\"USER DATABASE.xlsx\")                   "
   ]
  },
  {
   "cell_type": "code",
   "execution_count": null,
   "metadata": {},
   "outputs": [],
   "source": [
    "rc_raw = sum(1 for row in raw[\"Name\"])\n",
    "rc_db = sum(1 for row in db[\"name\"])"
   ]
  },
  {
   "cell_type": "code",
   "execution_count": null,
   "metadata": {},
   "outputs": [],
   "source": [
    "raw_name = []\n",
    "raw_failed_rte = []\n",
    "raw_run_no = []\n",
    "\n",
    "for i in range(rc_raw):\n",
    "    raw_name.append(raw[\"Name\"][i].lower())\n",
    "    raw_failed_rte.append(raw[\"Failed RTE\"][i])\n",
    "    raw_run_no.append(raw[\"RTE Run No\"][i])"
   ]
  },
  {
   "cell_type": "code",
   "execution_count": null,
   "metadata": {},
   "outputs": [],
   "source": [
    "rte_failed_op = []\n",
    "run_no_op = []\n",
    "\n",
    "for i in range(rc_db):\n",
    "    name = db[\"name\"][i].lower()\n",
    "    if name in raw_name:\n",
    "        idx = raw_name.index(name)\n",
    "        rte_failed_op.append(raw_failed_rte[idx])\n",
    "        run_no_op.append(raw_run_no[idx])\n",
    "        \n",
    "        if math.isnan(raw_run_no[idx]) == True:\n",
    "            no = 0\n",
    "        else:\n",
    "            no = int(raw_run_no[idx])\n",
    "            \n",
    "        if math.isnan(raw_failed_rte[idx]) == True:\n",
    "            failed = 0\n",
    "        else:\n",
    "            failed = int(raw_failed_rte[idx])\n",
    "\n",
    "    else:\n",
    "        rte_failed_op.append(\"\")\n",
    "        run_no_op.append(\"\")"
   ]
  },
  {
   "cell_type": "code",
   "execution_count": null,
   "metadata": {},
   "outputs": [],
   "source": [
    "# print(len(rte_failed_op))"
   ]
  },
  {
   "cell_type": "code",
   "execution_count": null,
   "metadata": {},
   "outputs": [],
   "source": [
    "writer = pd.ExcelWriter(r\"OUTPUT FILE.xlsx\", engine = 'xlsxwriter')\n",
    "df0 = pd.DataFrame(list(zip(run_no_op,rte_failed_op)), columns =['no', 'failed'])\n",
    "df0.to_excel(writer, sheet_name = \"Table1\", index = False)\n",
    "# df0 = pd.DataFrame(list(zip(rte_failed_op)), columns =['rte_failed_op'])\n",
    "# df0.to_excel(writer, sheet_name = \"Table1\", index = False)\n",
    "writer.save()\n",
    "writer.close()"
   ]
  },
  {
   "cell_type": "code",
   "execution_count": null,
   "metadata": {},
   "outputs": [],
   "source": []
  }
 ],
 "metadata": {
  "kernelspec": {
   "display_name": "Python 3",
   "language": "python",
   "name": "python3"
  },
  "language_info": {
   "codemirror_mode": {
    "name": "ipython",
    "version": 3
   },
   "file_extension": ".py",
   "mimetype": "text/x-python",
   "name": "python",
   "nbconvert_exporter": "python",
   "pygments_lexer": "ipython3",
   "version": "3.7.4"
  }
 },
 "nbformat": 4,
 "nbformat_minor": 2
}
