{
 "cells": [
  {
   "cell_type": "code",
   "execution_count": null,
   "metadata": {},
   "outputs": [],
   "source": [
    "import pandas as pd\n",
    "import math"
   ]
  },
  {
   "cell_type": "code",
   "execution_count": null,
   "metadata": {},
   "outputs": [],
   "source": [
    "raw = pd.read_csv(r\"PROOTOCOL DICTIONARY FILE CLEANING.csv\")"
   ]
  },
  {
   "cell_type": "markdown",
   "metadata": {},
   "source": [
    "# make sure you have the columns appropriately arraged based on files from previous month "
   ]
  },
  {
   "cell_type": "code",
   "execution_count": null,
   "metadata": {},
   "outputs": [],
   "source": [
    "rc = sum(1 for row in raw[\"Dept\"])\n",
    "print(rc)"
   ]
  },
  {
   "cell_type": "code",
   "execution_count": null,
   "metadata": {},
   "outputs": [],
   "source": [
    "protocol_main = []\n",
    "cpt_main = []\n",
    "desc_main = []\n",
    "\n",
    "protocol_copy = []\n",
    "cpt_copy = []\n",
    "desc_copy = []\n",
    "\n",
    "for i in range(rc):\n",
    "    protocol_main.append(raw[\"Protocol\"][i])\n",
    "    cpt_main.append(raw[\"CPT Code\"][i])\n",
    "    desc_main.append(raw[\"Description\"][i])\n",
    "\n",
    "    protocol_copy.append(raw[\"Column6\"][i])\n",
    "    cpt_copy.append(raw[\"Column7\"][i])\n",
    "    desc_copy.append(raw[\"Column8\"][i])    "
   ]
  },
  {
   "cell_type": "code",
   "execution_count": null,
   "metadata": {},
   "outputs": [],
   "source": [
    "import math\n",
    "\n",
    "protocol_op = []\n",
    "cpt_op = []\n",
    "desc_op = []\n",
    "\n",
    "for i in range(rc):\n",
    "#     if(raw[\"Protocol\"][i] == ''):\n",
    "    if(pd.isna(raw[\"Protocol\"][i]) == True):\n",
    "        protocol_op.append(protocol_copy[i])\n",
    "        cpt_op.append(cpt_copy[i])\n",
    "        desc_op.append(desc_copy[i])\n",
    "    else:\n",
    "        protocol_op.append(protocol_main[i])\n",
    "        cpt_op.append(cpt_main[i])\n",
    "        desc_op.append(desc_main[i])"
   ]
  },
  {
   "cell_type": "code",
   "execution_count": null,
   "metadata": {},
   "outputs": [],
   "source": [
    "print(len(protocol_op))\n",
    "print(len(cpt_op))\n",
    "print(len(desc_op))"
   ]
  },
  {
   "cell_type": "code",
   "execution_count": null,
   "metadata": {},
   "outputs": [],
   "source": [
    "print(raw[\"Protocol\"][1])"
   ]
  },
  {
   "cell_type": "code",
   "execution_count": null,
   "metadata": {},
   "outputs": [],
   "source": [
    "import math\n",
    "if(pd.isna(raw[\"Protocol\"][1]) == True):\n",
    "    print(\"yes\")\n",
    "else:\n",
    "    print(\"no\")"
   ]
  },
  {
   "cell_type": "code",
   "execution_count": null,
   "metadata": {},
   "outputs": [],
   "source": [
    "raw['protocol op'] = protocol_op\n",
    "raw['cpt_op'] = cpt_op\n",
    "raw['desc_op'] = desc_op\n",
    "\n",
    "raw.to_excel(r\"CLEANED PROTOCOL FILE.xlsx\")"
   ]
  },
  {
   "cell_type": "code",
   "execution_count": null,
   "metadata": {},
   "outputs": [],
   "source": []
  }
 ],
 "metadata": {
  "kernelspec": {
   "display_name": "Python 3",
   "language": "python",
   "name": "python3"
  },
  "language_info": {
   "codemirror_mode": {
    "name": "ipython",
    "version": 3
   },
   "file_extension": ".py",
   "mimetype": "text/x-python",
   "name": "python",
   "nbconvert_exporter": "python",
   "pygments_lexer": "ipython3",
   "version": "3.7.4"
  }
 },
 "nbformat": 4,
 "nbformat_minor": 2
}
