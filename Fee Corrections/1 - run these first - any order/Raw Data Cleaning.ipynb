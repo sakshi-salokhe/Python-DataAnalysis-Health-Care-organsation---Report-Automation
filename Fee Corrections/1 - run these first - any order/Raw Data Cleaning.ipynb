{
 "cells": [
  {
   "cell_type": "code",
   "execution_count": null,
   "metadata": {},
   "outputs": [],
   "source": [
    "import pandas as pd\n",
    "import csv"
   ]
  },
  {
   "cell_type": "code",
   "execution_count": null,
   "metadata": {},
   "outputs": [],
   "source": [
    "df = pd.read_csv(r\"RAW FILE.csv\")"
   ]
  },
  {
   "cell_type": "code",
   "execution_count": null,
   "metadata": {},
   "outputs": [],
   "source": [
    "row_count = sum(1 for row in df[\"Balance\"])"
   ]
  },
  {
   "cell_type": "code",
   "execution_count": null,
   "metadata": {},
   "outputs": [],
   "source": [
    "employer_dept = []\n",
    "emp_name = []\n",
    "dept = []\n",
    "address1 = []\n",
    "address2 = []\n",
    "address3 = []\n",
    "\n",
    "for i in range(row_count):\n",
    "    emp_data = (df[\"Employer\"][i].split('\\n'))\n",
    "    if len(emp_data) == 3:\n",
    "        emp_data.append(\" \")\n",
    "        emp_data.append(\" \")\n",
    "    elif len(emp_data) == 4:\n",
    "        emp_data.append(\" \")\n",
    "    \n",
    "    emp_name.append(emp_data[0])\n",
    "    dept.append(emp_data[1])\n",
    "    \n",
    "    emp_and_depts = [emp_data[0],emp_data[1]]\n",
    "    emp_dept = ' '.join(emp_and_depts)\n",
    "    employer_dept.append(emp_dept)\n",
    "    \n",
    "    address1.append(emp_data[2])\n",
    "    address2.append(emp_data[3])\n",
    "    address3.append(emp_data[4])"
   ]
  },
  {
   "cell_type": "code",
   "execution_count": null,
   "metadata": {},
   "outputs": [],
   "source": [
    "df[\"Employer Name\"] = emp_name\n",
    "df[\"Employer Dept\"] = employer_dept\n",
    "df[\"Dept\"] = dept\n",
    "df[\"Address 1\"] = address1\n",
    "df[\"Address 2\"] = address2\n",
    "df[\"Address 3\"] = address3\n",
    "\n",
    "df.to_csv(r\"CLEANED RAW FILE.csv\")"
   ]
  },
  {
   "cell_type": "code",
   "execution_count": null,
   "metadata": {},
   "outputs": [],
   "source": []
  }
 ],
 "metadata": {
  "kernelspec": {
   "display_name": "Python 3",
   "language": "python",
   "name": "python3"
  },
  "language_info": {
   "codemirror_mode": {
    "name": "ipython",
    "version": 3
   },
   "file_extension": ".py",
   "mimetype": "text/x-python",
   "name": "python",
   "nbconvert_exporter": "python",
   "pygments_lexer": "ipython3",
   "version": "3.7.4"
  }
 },
 "nbformat": 4,
 "nbformat_minor": 2
}
