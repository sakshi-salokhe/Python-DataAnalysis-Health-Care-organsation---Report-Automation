{
 "cells": [
  {
   "cell_type": "code",
   "execution_count": null,
   "metadata": {},
   "outputs": [],
   "source": [
    "import pandas as pd"
   ]
  },
  {
   "cell_type": "code",
   "execution_count": null,
   "metadata": {},
   "outputs": [],
   "source": [
    "df_raw = pd.read_csv(r\"RAW DATA FILE.csv\")\n",
    "df_payer = pd.read_csv(r\"PAYER DICTIONARY DATA.csv\")\n",
    "\n",
    "path = pd.ExcelFile(r'DICTIONARY 2.xlsx')\n",
    "df_owner_mapping = pd.read_excel(path, 'Owner Mapping')"
   ]
  },
  {
   "cell_type": "code",
   "execution_count": null,
   "metadata": {},
   "outputs": [],
   "source": [
    "new_row = []\n",
    "alpha = 'A'\n",
    "for i in range(len(df_raw.columns)):\n",
    "    new_row.append(alpha)\n",
    "    alpha = chr(ord(alpha) + 1)\n",
    "df_raw.columns = new_row"
   ]
  },
  {
   "cell_type": "code",
   "execution_count": null,
   "metadata": {},
   "outputs": [],
   "source": [
    "copy_raw_data = df_raw.iloc[:,17:24]\n",
    "copy_raw_data.columns = [\"Provider\",\"Patient\",\"Visit ID\",\"Amount\",\"Date\",\"Age\",\"Description\"]"
   ]
  },
  {
   "cell_type": "code",
   "execution_count": null,
   "metadata": {},
   "outputs": [],
   "source": [
    "op_path = r\"OUTPUT.csv\"\n",
    "copy_raw_data.to_csv(op_path)"
   ]
  },
  {
   "cell_type": "markdown",
   "metadata": {},
   "source": [
    "# we migrated the required data into a new file =>\n",
    "# Now we work on the other required 3 columns using this new raw data"
   ]
  },
  {
   "cell_type": "code",
   "execution_count": null,
   "metadata": {},
   "outputs": [],
   "source": [
    "df_new_raw = pd.read_csv(op_path)"
   ]
  },
  {
   "cell_type": "code",
   "execution_count": null,
   "metadata": {},
   "outputs": [],
   "source": [
    "row_count_new_raw = sum(1 for row in df_new_raw[\"Provider\"])\n",
    "row_count_payer = sum(1 for row in df_payer[\"Visit ID\"])"
   ]
  },
  {
   "cell_type": "code",
   "execution_count": null,
   "metadata": {},
   "outputs": [],
   "source": [
    "def conversion(num):\n",
    "    if \",\" in num:\n",
    "        val = num.split(\",\")\n",
    "        val = int(''.join(val))\n",
    "        return val\n",
    "    elif \",\" not in num:\n",
    "        return int(num)"
   ]
  },
  {
   "cell_type": "code",
   "execution_count": null,
   "metadata": {},
   "outputs": [],
   "source": [
    "payer_visit_id = df_payer[\"Visit ID\"].tolist()\n",
    "payer_payer_company = df_payer[\"Charge Payer Company\"].tolist()"
   ]
  },
  {
   "cell_type": "code",
   "execution_count": null,
   "metadata": {},
   "outputs": [],
   "source": [
    "temp_new_raw_visit_id = df_new_raw[\"Visit ID\"].tolist()\n",
    "new_raw_visit_id = []\n",
    "for i in range(len(temp_new_raw_visit_id)):\n",
    "    new_raw_visit_id.append(conversion(temp_new_raw_visit_id[i]))\n",
    "    \n",
    "temp_new_raw_desc = df_new_raw[\"Description\"].tolist()\n",
    "new_raw_desc = []\n",
    "for i in temp_new_raw_desc:\n",
    "    new_raw_desc.append(i.lower())"
   ]
  },
  {
   "cell_type": "code",
   "execution_count": null,
   "metadata": {},
   "outputs": [],
   "source": [
    "temp_main_owner_map = df_owner_mapping[\"In-Limbo Error Description\"].tolist()\n",
    "main_owner_map = []\n",
    "for i in temp_main_owner_map:\n",
    "    main_owner_map.append(i.lower())\n",
    "    \n",
    "owner_val = df_owner_mapping[\"Error Order\"].tolist()"
   ]
  },
  {
   "cell_type": "code",
   "execution_count": null,
   "metadata": {},
   "outputs": [],
   "source": [
    "Payer_list = []\n",
    "c = 0\n",
    "for vid in new_raw_visit_id:\n",
    "    if vid in payer_visit_id:\n",
    "        idx = payer_visit_id.index(vid)\n",
    "        payer_company = payer_payer_company[idx]\n",
    "        Payer_list.append(payer_company)\n",
    "        c+=1\n",
    "    else:\n",
    "        Payer_list.append(\"Visit ID not found\")\n",
    "        c+=1\n",
    "print(c)"
   ]
  },
  {
   "cell_type": "code",
   "execution_count": null,
   "metadata": {},
   "outputs": [],
   "source": [
    "Owner_list = []\n",
    "c = 0\n",
    "for desc in new_raw_desc:\n",
    "    if desc in main_owner_map:\n",
    "        idx = main_owner_map.index(desc)\n",
    "        code = owner_val[idx]\n",
    "        Owner_list.append(code)\n",
    "        c+=1\n",
    "    elif \"invalid insurance type or no insurance associated\" in desc.lower():\n",
    "        Owner_list.append(2.2)\n",
    "        c+=1\n",
    "    else:\n",
    "        Owner_list.append(float(-1))\n",
    "        c+=1\n",
    "print(c)"
   ]
  },
  {
   "cell_type": "code",
   "execution_count": null,
   "metadata": {},
   "outputs": [],
   "source": [
    "min_list = []\n",
    "id_owner = {}\n",
    "c= 0\n",
    "for i in range(len(new_raw_visit_id)):\n",
    "    vid = new_raw_visit_id[i]\n",
    "    if vid not in id_owner:\n",
    "        id_owner[vid] = Owner_list[i]\n",
    "    else:\n",
    "        if id_owner[vid] > Owner_list[i]:\n",
    "            id_owner[vid] = Owner_list[i]\n",
    "        elif Owner_list[i] == float(-1):\n",
    "            continue\n",
    "\n",
    "for i in range(row_count_new_raw):\n",
    "    vid = new_raw_visit_id[i]\n",
    "    if vid in id_owner:\n",
    "        min_list.append(id_owner[vid])\n",
    "        c+=1\n",
    "print(c)"
   ]
  },
  {
   "cell_type": "code",
   "execution_count": null,
   "metadata": {},
   "outputs": [],
   "source": [
    "#deleting the rows with Patient Name = Cash, Mr. Unapplied\n",
    "i = row_count_new_raw-1\n",
    "x = i-1\n",
    "idx = []\n",
    "while i > 0:\n",
    "    patient_name = df_new_raw[\"Patient\"][i]\n",
    "    \n",
    "    if patient_name == \"Cash, Mr. Unapplied\":\n",
    "        df_new_raw.drop(df_new_raw.index[i], inplace=True)\n",
    "        idx.append(i)\n",
    "        row_count_new_raw -= 1\n",
    "        i = x\n",
    "        x = i-1\n",
    "    else:\n",
    "        i-=1\n",
    "        x = i-1\n",
    "        \n",
    "if df_new_raw[\"Patient\"][0] == \"Cash, Mr. Unapplied\":\n",
    "    df_new_raw.drop(df_new_raw.index[0], inplace=True)\n",
    "    idx.append(i)\n",
    "    row_count_new_raw -= 1\n",
    "print(row_count_new_raw)"
   ]
  },
  {
   "cell_type": "code",
   "execution_count": null,
   "metadata": {},
   "outputs": [],
   "source": [
    "df_new_raw.to_csv(op_path)"
   ]
  },
  {
   "cell_type": "code",
   "execution_count": null,
   "metadata": {},
   "outputs": [],
   "source": [
    "#deleting the rows with Min = -1\n",
    "i = len(min_list)-1\n",
    "x = i-1\n",
    "while i > 0:\n",
    "    minval = min_list[i]\n",
    "    \n",
    "    if minval == float(-1) and i in idx:\n",
    "#         df_op.drop(df_op.index[i], inplace=True)\n",
    "        min_list.pop(i)\n",
    "        Payer_list.pop(i)\n",
    "        Owner_list.pop(i)\n",
    "#         op_row_count -= 1\n",
    "        i = x\n",
    "        x = i-1\n",
    "    else:\n",
    "        i-=1\n",
    "        x = i-1\n",
    "        \n",
    "if min_list[i] == float(-1) and 0 in idx:\n",
    "#     df_op.drop(df_op.index[0], inplace=True)\n",
    "    min_list.pop(0)\n",
    "    Payer_list.pop(0)\n",
    "    Owner_list.pop(0)\n",
    "#     op_row_count -= 1"
   ]
  },
  {
   "cell_type": "code",
   "execution_count": null,
   "metadata": {},
   "outputs": [],
   "source": [
    "for j in range(len(min_list)):\n",
    "    if min_list[j] == float(-1):\n",
    "        min_list[j] = \"N/A\"\n",
    "# df_op[\"Min\"] = min_list2\n",
    "print(len(min_list))"
   ]
  },
  {
   "cell_type": "code",
   "execution_count": null,
   "metadata": {},
   "outputs": [],
   "source": [
    "df_new_raw['Payer'] = Payer_list\n",
    "df_new_raw['Owner'] = Owner_list\n",
    "df_new_raw['Min'] = min_list\n",
    "df_new_raw.to_csv(op_path)"
   ]
  },
  {
   "cell_type": "code",
   "execution_count": null,
   "metadata": {},
   "outputs": [],
   "source": []
  }
 ],
 "metadata": {
  "kernelspec": {
   "display_name": "Python 3",
   "language": "python",
   "name": "python3"
  },
  "language_info": {
   "codemirror_mode": {
    "name": "ipython",
    "version": 3
   },
   "file_extension": ".py",
   "mimetype": "text/x-python",
   "name": "python",
   "nbconvert_exporter": "python",
   "pygments_lexer": "ipython3",
   "version": "3.7.4"
  }
 },
 "nbformat": 4,
 "nbformat_minor": 2
}
