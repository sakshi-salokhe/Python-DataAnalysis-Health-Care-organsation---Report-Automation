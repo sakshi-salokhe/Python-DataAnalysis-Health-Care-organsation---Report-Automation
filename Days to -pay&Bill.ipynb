{
 "cells": [
  {
   "cell_type": "code",
   "execution_count": null,
   "metadata": {},
   "outputs": [],
   "source": [
    "import pandas as pd"
   ]
  },
  {
   "cell_type": "code",
   "execution_count": null,
   "metadata": {},
   "outputs": [],
   "source": [
    "pay = pd.read_excel(r\"DAYS TO PAY FILE.xlsx\")\n",
    "bill = pd.read_excel(r\"DAYS TO BILL FILE.xlsx\")"
   ]
  },
  {
   "cell_type": "code",
   "execution_count": null,
   "metadata": {},
   "outputs": [],
   "source": [
    "pay_rc = sum(1 for row in pay['Visit ID'])\n",
    "bill_rc = sum(1 for row in pay['Visit ID'])"
   ]
  },
  {
   "cell_type": "code",
   "execution_count": null,
   "metadata": {},
   "outputs": [],
   "source": [
    "paydict = {}\n",
    "temp1 = []\n",
    "c = 0\n",
    "\n",
    "for i in range(pay_rc):\n",
    "    vid = pay['Visit ID'][i]\n",
    "    \n",
    "    if vid in paydict:\n",
    "        c = c+1\n",
    "        days = pay['Total Claim Days To Process'][i]\n",
    "        len1 = len(paydict[vid])-1\n",
    "        if paydict[vid][len1] < days:\n",
    "            temp1.append(\"ok\")\n",
    "        else:\n",
    "            paydict[vid] = [pay['Transaction Payer Plan'][i], pay['Months in Visit Date'][i], days]\n",
    "    else:\n",
    "        paydict[vid] = [pay['Transaction Payer Plan'][i], pay['Months in Visit Date'][i], pay['Total Claim Days To Process'][i]]"
   ]
  },
  {
   "cell_type": "code",
   "execution_count": null,
   "metadata": {},
   "outputs": [],
   "source": [
    "billdict = {}\n",
    "c = 0\n",
    "temp2 = []\n",
    "for i in range(bill_rc):\n",
    "    vid = bill['Visit ID'][i]\n",
    "    \n",
    "    if vid in billdict:\n",
    "        c = c+1\n",
    "        days = bill['Average Claim Days To Bill'][i]\n",
    "        len1 = len(billdict[vid])-1\n",
    "        if billdict[vid][len1] < days:\n",
    "            temp2.append(\"ok\")\n",
    "        else:\n",
    "            billdict[vid] = [bill['Transaction Payer Plan'][i], bill['Months in Visit Date'][i], days]\n",
    "    else:\n",
    "        billdict[vid] = [bill['Transaction Payer Plan'][i], bill['Months in Visit Date'][i], bill['Average Claim Days To Bill'][i]]"
   ]
  },
  {
   "cell_type": "code",
   "execution_count": null,
   "metadata": {},
   "outputs": [],
   "source": [
    "pay_vid = []\n",
    "pay_plan = []\n",
    "pay_months = []\n",
    "pay_days = []\n",
    "\n",
    "for k,v in paydict.items():\n",
    "    pay_vid.append(k)\n",
    "    pay_plan.append(v[0])\n",
    "    pay_months.append(v[1])\n",
    "    pay_days.append(v[-1])"
   ]
  },
  {
   "cell_type": "code",
   "execution_count": null,
   "metadata": {},
   "outputs": [],
   "source": [
    "bill_vid = []\n",
    "bill_plan = []\n",
    "bill_months = []\n",
    "bill_days = []\n",
    "\n",
    "for k,v in billdict.items():\n",
    "    bill_vid.append(k)\n",
    "    bill_plan.append(v[0])\n",
    "    bill_months.append(v[1])\n",
    "    bill_days.append(v[-1])"
   ]
  },
  {
   "cell_type": "code",
   "execution_count": null,
   "metadata": {},
   "outputs": [],
   "source": [
    "writer1 = pd.ExcelWriter(r\"DAYS TO PAY OUTPUTt.xlsx\", engine = 'xlsxwriter')\n",
    "df1 = pd.DataFrame(list(zip(pay_vid, pay_plan, pay_months, pay_days)), columns =['Pay Visit ID','Transaction Payer Plan', 'Months in Visit Date','Total Claim Days To Process'])\n",
    "df1.to_excel(writer1, sheet_name = \"Table1\", index = False)\n",
    "\n",
    "writer1.save()\n",
    "writer1.close()"
   ]
  },
  {
   "cell_type": "code",
   "execution_count": null,
   "metadata": {},
   "outputs": [],
   "source": [
    "writer2 = pd.ExcelWriter(r\"DAYS TO BILL OUTPUT.xlsx\", engine = 'xlsxwriter')\n",
    "df2 = pd.DataFrame(list(zip(bill_vid, bill_plan, bill_months, bill_days)), columns =['Pay Visit ID','Transaction Payer Plan', 'Months in Visit Date','Average Claim Days To Process'])\n",
    "df2.to_excel(writer2, sheet_name = \"Table1\", index = False)\n",
    "\n",
    "writer2.save()\n",
    "writer2.close()"
   ]
  },
  {
   "cell_type": "code",
   "execution_count": null,
   "metadata": {},
   "outputs": [],
   "source": []
  }
 ],
 "metadata": {
  "kernelspec": {
   "display_name": "Python 3",
   "language": "python",
   "name": "python3"
  },
  "language_info": {
   "codemirror_mode": {
    "name": "ipython",
    "version": 3
   },
   "file_extension": ".py",
   "mimetype": "text/x-python",
   "name": "python",
   "nbconvert_exporter": "python",
   "pygments_lexer": "ipython3",
   "version": "3.7.4"
  }
 },
 "nbformat": 4,
 "nbformat_minor": 2
}
