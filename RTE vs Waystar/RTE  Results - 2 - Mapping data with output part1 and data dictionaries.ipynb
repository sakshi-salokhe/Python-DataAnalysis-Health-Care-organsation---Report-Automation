{
 "cells": [
  {
   "cell_type": "markdown",
   "metadata": {},
   "source": [
    "# make sure you change the file name in the 2nd, 3rd and the last cell"
   ]
  },
  {
   "cell_type": "code",
   "execution_count": null,
   "metadata": {},
   "outputs": [],
   "source": [
    "import pandas as pd"
   ]
  },
  {
   "cell_type": "markdown",
   "metadata": {},
   "source": [
    "# in the raw file melissa -  change the first column name to Visit ID\n",
    "# delete the day rows in the file and the first few rows until header and the last Total row a well\n",
    "# delete all rows with only date in it\n",
    "\n",
    "# and check the names of columns with the data in docutap and then close it\n"
   ]
  },
  {
   "cell_type": "code",
   "execution_count": null,
   "metadata": {},
   "outputs": [],
   "source": [
    "#raw data\n",
    "df_data = pd.read_excel(r\"RAW DATA FILE.xlsx\")\n",
    "#database file\n",
    "df_db = pd.read_excel(r\"REGIONAL DATABASE FILE.xlsx\")"
   ]
  },
  {
   "cell_type": "code",
   "execution_count": null,
   "metadata": {},
   "outputs": [],
   "source": [
    "#my output file\n",
    "df_res = pd.read_excel(r\"OUTPUT BY RUNNING PART 1 PYTHON CODE.xlsx\")\n",
    "#data file that I used\n",
    "df_sak_data = pd.read_excel(r\"DATA FILE DICTIONARY FOR PART 1 OF THE CODE.xlsx\")"
   ]
  },
  {
   "cell_type": "code",
   "execution_count": null,
   "metadata": {},
   "outputs": [],
   "source": [
    "rc_data = sum(1 for row in df_data['Visit ID'])\n",
    "rc_db = sum(1 for row in df_db['Facility'])\n",
    "rc_res = sum(1 for row in df_res['Inquiry Date'])\n",
    "rc_sak_data = sum(1 for row in df_sak_data['Patient ID'])"
   ]
  },
  {
   "cell_type": "code",
   "execution_count": null,
   "metadata": {},
   "outputs": [],
   "source": [
    "fac_nameandregion = {}\n",
    "\n",
    "for i in range(rc_db):\n",
    "    fac_name = str(df_db['Full Facility Name'][i]).lower()\n",
    "    region = str(df_db['Region'][i]).lower()\n",
    "    \n",
    "    if fac_name not in fac_nameandregion:\n",
    "        fac_nameandregion[fac_name] = region\n",
    "    else:\n",
    "        fac_nameandregion[fac_name] = region"
   ]
  },
  {
   "cell_type": "code",
   "execution_count": null,
   "metadata": {},
   "outputs": [],
   "source": [
    "visit_id = []\n",
    "for i in range(rc_data):\n",
    "    vid_and_name = str(df_data['Visit ID'][i]).split('-')\n",
    "    vid = int(vid_and_name[0])\n",
    "    visit_id.append(vid)"
   ]
  },
  {
   "cell_type": "code",
   "execution_count": null,
   "metadata": {},
   "outputs": [],
   "source": [
    "print(len(visit_id))"
   ]
  },
  {
   "cell_type": "code",
   "execution_count": null,
   "metadata": {},
   "outputs": [],
   "source": [
    "res_vid = []\n",
    "res_rte = []\n",
    "res_location = []\n",
    "\n",
    "for i in range(rc_res):\n",
    "    res_vid.append(df_res['Visit ID'][i])\n",
    "    res_rte.append(df_res['Active or Failed RTE'][i])\n",
    "    res_location.append(df_res['Location'][i])"
   ]
  },
  {
   "cell_type": "code",
   "execution_count": null,
   "metadata": {},
   "outputs": [],
   "source": [
    "print(type(res_vid[i]))\n",
    "print(res_vid[i])"
   ]
  },
  {
   "cell_type": "code",
   "execution_count": null,
   "metadata": {},
   "outputs": [],
   "source": [
    "sak_visitid = []\n",
    "sak_clinicname = []\n",
    "\n",
    "for i in range(1,rc_sak_data):\n",
    "    sak_visitid.append(int(df_sak_data['Visit ID'][i]))\n",
    "    sak_clinicname.append(str(df_sak_data['Clinic Name'][i]).lower())"
   ]
  },
  {
   "cell_type": "code",
   "execution_count": null,
   "metadata": {},
   "outputs": [],
   "source": [
    "print(type(sak_visitid[0]))\n",
    "print(sak_visitid[0])"
   ]
  },
  {
   "cell_type": "code",
   "execution_count": null,
   "metadata": {},
   "outputs": [],
   "source": [
    "data1 = int(len(visit_id))\n",
    "print(data1)"
   ]
  },
  {
   "cell_type": "code",
   "execution_count": null,
   "metadata": {},
   "outputs": [],
   "source": [
    "rte_op = []\n",
    "loc_op = []\n",
    "\n",
    "for i in range(data1):\n",
    "    if visit_id[i] in res_vid:\n",
    "        idx = res_vid.index(visit_id[i])\n",
    "        rte = res_rte[idx]\n",
    "        loc = res_location[idx]\n",
    "        rte_op.append(rte)\n",
    "        loc_op.append(loc)\n",
    "    elif visit_id[i] in sak_visitid:\n",
    "        rte = \"#N/A\"\n",
    "        idx = sak_visitid.index(visit_id[i])\n",
    "        loc = sak_clinicname[idx]\n",
    "        rte_op.append(rte)\n",
    "        loc_op.append(loc)\n",
    "    else:\n",
    "        rte_op.append(\" \")\n",
    "        loc_op.append(\" \")"
   ]
  },
  {
   "cell_type": "code",
   "execution_count": null,
   "metadata": {},
   "outputs": [],
   "source": [
    "print(len(loc_op))\n",
    "print(len(rte_op))"
   ]
  },
  {
   "cell_type": "code",
   "execution_count": null,
   "metadata": {},
   "outputs": [],
   "source": [
    "reg_op = []\n",
    "\n",
    "for i in range(data1):\n",
    "    if loc_op[i] in fac_nameandregion:\n",
    "        reg_val = fac_nameandregion.get(loc_op[i])\n",
    "        reg_op.append(reg_val)\n",
    "    else:\n",
    "        reg_op.append(\" \")"
   ]
  },
  {
   "cell_type": "code",
   "execution_count": null,
   "metadata": {
    "scrolled": true
   },
   "outputs": [],
   "source": [
    "print(len(rte_op))\n",
    "print(len(loc_op))\n",
    "print(len(reg_op))"
   ]
  },
  {
   "cell_type": "code",
   "execution_count": null,
   "metadata": {},
   "outputs": [],
   "source": [
    "df_data['RTE'] = rte_op\n",
    "df_data['Location'] = loc_op\n",
    "df_data['Region'] = reg_op\n",
    "df_data['Visit Id 2'] = visit_id\n",
    "\n",
    "df_data.to_excel(r\"OUTPUT FILE.xlsx\")"
   ]
  },
  {
   "cell_type": "code",
   "execution_count": null,
   "metadata": {},
   "outputs": [],
   "source": []
  },
  {
   "cell_type": "code",
   "execution_count": null,
   "metadata": {},
   "outputs": [],
   "source": []
  }
 ],
 "metadata": {
  "kernelspec": {
   "display_name": "Python 3",
   "language": "python",
   "name": "python3"
  },
  "language_info": {
   "codemirror_mode": {
    "name": "ipython",
    "version": 3
   },
   "file_extension": ".py",
   "mimetype": "text/x-python",
   "name": "python",
   "nbconvert_exporter": "python",
   "pygments_lexer": "ipython3",
   "version": "3.7.4"
  }
 },
 "nbformat": 4,
 "nbformat_minor": 2
}
