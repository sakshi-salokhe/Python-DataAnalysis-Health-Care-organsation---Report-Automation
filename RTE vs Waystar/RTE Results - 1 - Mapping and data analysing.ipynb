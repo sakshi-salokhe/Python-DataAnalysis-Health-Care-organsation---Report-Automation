{
 "cells": [
  {
   "cell_type": "markdown",
   "metadata": {},
   "source": [
    "# make sure you change the file name in the 2nd and the last cell of this code\n"
   ]
  },
  {
   "cell_type": "code",
   "execution_count": null,
   "metadata": {},
   "outputs": [],
   "source": [
    "import pandas as pd\n",
    "import math"
   ]
  },
  {
   "cell_type": "code",
   "execution_count": null,
   "metadata": {},
   "outputs": [],
   "source": [
    "df_data = pd.read_excel(r\"RAW DATA FILE DICTIONARY.xlsx\")\n",
    "df_rte = pd.read_excel(r\"RAW DATA FILE TO WORK ON.xlsx\")"
   ]
  },
  {
   "cell_type": "code",
   "execution_count": null,
   "metadata": {},
   "outputs": [],
   "source": [
    "rowcount_data = sum(1 for row in df_data[\"Patient ID\"])\n",
    "rowcount_rte = sum(1 for row in df_rte[\"Product\"])\n",
    "\n",
    "print(rowcount_data)\n",
    "print(rowcount_rte)"
   ]
  },
  {
   "cell_type": "code",
   "execution_count": null,
   "metadata": {},
   "outputs": [],
   "source": [
    "pat_id_dict = {}\n",
    "lastname_dict = {}\n",
    "for i in range(0, rowcount_data-1):\n",
    "    if df_data[\"Patient ID\"][i] not in pat_id_dict:\n",
    "        if type(df_data[\"Patient Last Name\"][i]) == str:\n",
    "            pat_lastname = df_data[\"Patient Last Name\"][i].lower()\n",
    "        else:\n",
    "            pat_lastname = df_data[\"Patient Last Name\"][i]\n",
    "        pat_vid = [df_data[\"Visit ID\"][i]]\n",
    "        pat_vdate = [df_data[\"Days in Visit Date\"][i].date()]\n",
    "        pat_clinicname = [df_data[\"Clinic Name\"][i]]\n",
    "        \n",
    "        pat_id_dict[df_data[\"Patient ID\"][i]] = [pat_lastname, pat_vid, pat_vdate, pat_clinicname]\n",
    "    else:\n",
    "        pat_id_dict[df_data[\"Patient ID\"][i]][1].append(df_data[\"Visit ID\"][i])\n",
    "        pat_id_dict[df_data[\"Patient ID\"][i]][2].append(df_data[\"Days in Visit Date\"][i].date())\n",
    "        pat_id_dict[df_data[\"Patient ID\"][i]][3].append(df_data[\"Clinic Name\"][i])\n",
    "    \n",
    "    if type(df_data[\"Patient Last Name\"][i]) == str:\n",
    "        pat_lname = df_data[\"Patient Last Name\"][i].lower()\n",
    "    else:\n",
    "        pat_lname = df_data[\"Patient Last Name\"][i]\n",
    "    \n",
    "    if pat_lname not in lastname_dict:\n",
    "        if type(df_data[\"Patient ID\"][i]) == str:\n",
    "            pat_id = df_data[\"Patient ID\"][i].lower()\n",
    "        else:\n",
    "            pat_id = df_data[\"Patient ID\"][i]\n",
    "        pat_vid = df_data[\"Visit ID\"][i]\n",
    "        pat_vdate = df_data[\"Days in Visit Date\"][i].date()\n",
    "        \n",
    "        pat_clinicname = df_data[\"Clinic Name\"][i]\n",
    "        \n",
    "        tuple1 = (pat_vdate, pat_id, pat_vid, pat_clinicname)\n",
    "        \n",
    "        \n",
    "        lastname_dict[pat_lname] = [tuple1]\n",
    "    else:\n",
    "        pat_vid = (df_data[\"Visit ID\"][i])\n",
    "        \n",
    "        if type(df_data[\"Patient ID\"][i]) == str:\n",
    "            pat_id = df_data[\"Patient ID\"][i].lower()\n",
    "        else:\n",
    "            pat_id = df_data[\"Patient ID\"][i]\n",
    "        \n",
    "        pat_vdate = (df_data[\"Days in Visit Date\"][i].date())\n",
    "        pat_clinicname = (df_data[\"Clinic Name\"][i])\n",
    "        \n",
    "        tuple1 = (pat_vdate, pat_id, pat_vid, pat_clinicname)\n",
    "        \n",
    "        lastname_dict[pat_lname].append(tuple1)\n",
    "        \n",
    "        "
   ]
  },
  {
   "cell_type": "code",
   "execution_count": null,
   "metadata": {},
   "outputs": [],
   "source": [
    "location = []\n",
    "visitid = []\n",
    "concatenatedcol = []\n",
    "patient_id = []\n",
    "\n",
    "for i in range(0, rowcount_rte):\n",
    "    pat_id = float(df_rte[\"Patient Account #\"][i])\n",
    "    s_date = df_rte[\"Service Date\"][i].date()\n",
    "    pname = str(df_rte[\"Subscriber Name Patient Name\"][i])\n",
    "    pname1 = pname.split(\",\")\n",
    "    lastname_rte = pname1[0].lower()\n",
    "   \n",
    "    if math.isnan(pat_id) == False:\n",
    "        if pat_id in pat_id_dict:\n",
    "            visit_id_list_data = pat_id_dict[pat_id][1]\n",
    "            date_list_data = pat_id_dict[pat_id][2]\n",
    "            clinic_list_data = pat_id_dict[pat_id][3]\n",
    "            if s_date in date_list_data:\n",
    "                rev = date_list_data[::-1]\n",
    "                idx1 = rev.index(s_date)\n",
    "                idx = len(rev)-idx1-1\n",
    "                loc = clinic_list_data[idx]\n",
    "                vid = int(visit_id_list_data[idx])\n",
    "            else:\n",
    "                loc = \"date not found\"\n",
    "                vid = \"date not found\"\n",
    "        else:\n",
    "            loc = \"Patient ID not found\"\n",
    "            vid = \"Patient ID not found\"\n",
    "        \n",
    "        location.append(loc)\n",
    "        visitid.append(vid)\n",
    "        patient_id.append(pat_id)\n",
    "        concatenatedcol.append(pat_id)\n",
    "        \n",
    "    else:\n",
    "        if lastname_rte in lastname_dict:\n",
    "            tuple1 = lastname_dict[lastname_rte]\n",
    "            for tup in tuple1:\n",
    "                if s_date in tup:\n",
    "                    vals = tup\n",
    "                    break\n",
    "                else:\n",
    "                    vals = (\" \",\" \",\" \",\" \")\n",
    "            \n",
    "            pat_vdate = vals[0]\n",
    "            pat_id = vals[1]\n",
    "            pat_vid = vals[2]\n",
    "            pat_clinicname = vals[3]\n",
    "            \n",
    "#             else:\n",
    "#                 pat_id = \" \"\n",
    "#                 loc = \"date not found\"\n",
    "#                 vid = \"date not found\"\n",
    "        else:\n",
    "            pat_id = \" \"\n",
    "            pat_clinicname = \"Patient Last Name not found\"\n",
    "            pat_vid = \"Patient Last Name not found\"\n",
    "        \n",
    "        location.append(pat_clinicname)\n",
    "        visitid.append(pat_vid)\n",
    "        patient_id.append(pat_id)\n",
    "#         conc = str(lastname_rte) + \" \" +str(s_date)\n",
    "        concatenatedcol.append(pat_id)\n",
    "    "
   ]
  },
  {
   "cell_type": "code",
   "execution_count": null,
   "metadata": {},
   "outputs": [],
   "source": [
    "# print(pat_id_dict[782851])"
   ]
  },
  {
   "cell_type": "code",
   "execution_count": null,
   "metadata": {},
   "outputs": [],
   "source": [
    "count_visitid = {}\n",
    "\n",
    "for i in range(0,len(visitid)):\n",
    "    if visitid[i] not in count_visitid:\n",
    "        vid = visitid[i]\n",
    "        count_visitid[vid] = 1\n",
    "    else:\n",
    "        vid = visitid[i]\n",
    "        count_visitid[vid] += 1\n",
    "   "
   ]
  },
  {
   "cell_type": "code",
   "execution_count": null,
   "metadata": {},
   "outputs": [],
   "source": [
    "col_L = []\n",
    "col_M = []\n",
    "\n",
    "for i in range(0,len(visitid)):\n",
    "    vid = visitid[i]\n",
    "    count = count_visitid[vid]\n",
    "    rte_status = df_rte[\"Status\"][i].lower()\n",
    "    \n",
    "    if count > 0 and type(vid) != str:\n",
    "        col_L.append(count)\n",
    "    else:\n",
    "        col_L.append(\" \")\n",
    "        \n",
    "    \n",
    "    if count > 1 and rte_status == \"active coverage\":\n",
    "        col_M.append(\"Yes\")\n",
    "    else:\n",
    "        col_M.append(rte_status)"
   ]
  },
  {
   "cell_type": "code",
   "execution_count": null,
   "metadata": {
    "scrolled": true
   },
   "outputs": [],
   "source": [
    "print(len(location))\n",
    "print(len(visitid))\n",
    "print(len(concatenatedcol))\n",
    "print(len(col_L))\n",
    "print(len(col_M))"
   ]
  },
  {
   "cell_type": "code",
   "execution_count": null,
   "metadata": {},
   "outputs": [],
   "source": [
    "status_dict = {}\n",
    "\n",
    "for i in range(0,len(visitid)):\n",
    "    pid = visitid[i]\n",
    "    if pid not in status_dict:\n",
    "        status_dict[pid] = [col_M[i].lower()]\n",
    "    else:\n",
    "        status_dict[pid].append(col_M[i].lower())"
   ]
  },
  {
   "cell_type": "code",
   "execution_count": null,
   "metadata": {},
   "outputs": [],
   "source": [
    "col_O = []\n",
    "for i in range(0,len(visitid)):\n",
    "    pid = visitid[i]\n",
    "    status = status_dict[pid]\n",
    "    file_status = df_rte[\"Status\"][i].lower()\n",
    "    \n",
    "    file_stat = file_status.split()\n",
    "    \n",
    "    if \"yes\" in status or \"active\" == file_stat[0]:\n",
    "        col_O.append(\"Active\")\n",
    "    else:\n",
    "        col_O.append(status[0])"
   ]
  },
  {
   "cell_type": "code",
   "execution_count": null,
   "metadata": {},
   "outputs": [],
   "source": [
    "print(len(patient_id))"
   ]
  },
  {
   "cell_type": "code",
   "execution_count": null,
   "metadata": {},
   "outputs": [],
   "source": [
    "df1 = pd.DataFrame(list(zip(location,visitid,concatenatedcol,col_L,col_O)), columns =['Location','Visit ID', 'Last Name and Service date','Multiple times Visit ID', \"Active or Failed RTE\"])\n",
    "df1.to_excel(r\"OUTPUT FILE OF PART  1.xlsx\")"
   ]
  },
  {
   "cell_type": "code",
   "execution_count": null,
   "metadata": {},
   "outputs": [],
   "source": []
  }
 ],
 "metadata": {
  "kernelspec": {
   "display_name": "Python 3",
   "language": "python",
   "name": "python3"
  },
  "language_info": {
   "codemirror_mode": {
    "name": "ipython",
    "version": 3
   },
   "file_extension": ".py",
   "mimetype": "text/x-python",
   "name": "python",
   "nbconvert_exporter": "python",
   "pygments_lexer": "ipython3",
   "version": "3.7.4"
  }
 },
 "nbformat": 4,
 "nbformat_minor": 2
}
